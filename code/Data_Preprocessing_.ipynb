{
 "cells": [
  {
   "cell_type": "code",
   "execution_count": 1,
   "metadata": {
    "id": "_KLt_TIKg0hL"
   },
   "outputs": [],
   "source": [
    "import pandas as pd\n",
    "import numpy as np\n",
    "import regex as re\n",
    "df = pd.read_csv('ucsd_US_print_dataset_03162023.csv')"
   ]
  },
  {
   "cell_type": "code",
   "execution_count": 2,
   "metadata": {
    "scrolled": true
   },
   "outputs": [
    {
     "data": {
      "text/plain": [
       "2169826"
      ]
     },
     "execution_count": 2,
     "metadata": {},
     "output_type": "execute_result"
    }
   ],
   "source": [
    "len(df)"
   ]
  },
  {
   "cell_type": "markdown",
   "metadata": {
    "id": "8XZZbvWwhW5N"
   },
   "source": [
    "# 1. Part 01 of variables\n",
    "# Serial Number : Remove duplicated rows when all the informations are the same \n",
    "1. Some of the rows that have same \"serial number\" and \"MDM ID\" but some contains subset of information that other rows contain, so I want to keep only those rows with the most information (have numbers in most columns) and remove the other rows; \n",
    "2. Remove all those rows with same \"Serial Number\" but different \"MDM ID\""
   ]
  },
  {
   "cell_type": "code",
   "execution_count": 3,
   "metadata": {
    "id": "G3Rf-1KPhiFY"
   },
   "outputs": [
    {
     "name": "stdout",
     "output_type": "stream",
     "text": [
      "                           Serial Number  count\n",
      "100791  ae21aa72c317efa84c7bfacf62c27fed    157\n",
      "31411   35e7863efe158a5327147311ce2500ab    101\n",
      "40515   45b4ec1aba9a6ed9a25377079fdf3d7f     77\n",
      "70418   79624b83b97de51883daddf431257cd3     39\n",
      "84693   920c3364ecba874f0cad54f28228a5cc     38\n",
      "...                                  ...    ...\n",
      "51940   5990db66fd07643a44438675ffde7017      2\n",
      "51939   5990d07ab763d9d79f1630f8df0db8b1      2\n",
      "51938   598fcaeb6e815bcda7e03d2d37eb009f      2\n",
      "51937   598fa8ff50e52ed6a81b49702a6ea6be      2\n",
      "74279   7ff4f6a18d2e4b64e31d53ca10187515      2\n",
      "\n",
      "[148558 rows x 2 columns]\n"
     ]
    }
   ],
   "source": [
    "# Check duplicated serial numbers and the number of duplicated rows \n",
    "serial_number_col = 'Serial Number'  # Replace with the actual column name\n",
    "duplicates = df.groupby(serial_number_col).filter(lambda x: len(x) > 1)\n",
    "counts = duplicates.groupby(serial_number_col).size().reset_index(name='count').sort_values(by='count', ascending=False)\n",
    "print(counts)"
   ]
  },
  {
   "cell_type": "code",
   "execution_count": 4,
   "metadata": {
    "id": "BtFnLFNni2EK"
   },
   "outputs": [],
   "source": [
    "# Processing code !!\n",
    "serial_number_col = 'Serial Number'  # Replace with the actual column name\n",
    "duplicates = df.groupby(serial_number_col).filter(lambda x: len(x['MDM ID'].unique()) > 1)\n",
    "df = df.drop_duplicates(subset=[serial_number_col, 'MDM ID'], keep=False)\n",
    "df = df[~df[serial_number_col].isin(duplicates[serial_number_col].unique())]"
   ]
  },
  {
   "cell_type": "code",
   "execution_count": 5,
   "metadata": {
    "id": "tapGZkkxpVA4"
   },
   "outputs": [
    {
     "name": "stdout",
     "output_type": "stream",
     "text": [
      "There are no duplicated values in the column\n"
     ]
    }
   ],
   "source": [
    "# This line can help you check whether there are still duplicated serial numbers in the dataset\n",
    "if df['Serial Number'].duplicated().any():\n",
    "    print('There are duplicated values in the column')\n",
    "else:\n",
    "    print('There are no duplicated values in the column')"
   ]
  },
  {
   "cell_type": "markdown",
   "metadata": {
    "id": "fd4NvqoKpfGr"
   },
   "source": [
    "# Printer Total "
   ]
  },
  {
   "cell_type": "code",
   "execution_count": 6,
   "metadata": {
    "id": "UIM_Gh0nphgc"
   },
   "outputs": [],
   "source": [
    "df[\"Printer Total\"] = df.groupby(\"MDM ID\")[\"Serial Number\"].transform(\"nunique\")"
   ]
  },
  {
   "cell_type": "markdown",
   "metadata": {},
   "source": [
    "# Fill Price with Series Median"
   ]
  },
  {
   "cell_type": "code",
   "execution_count": 7,
   "metadata": {},
   "outputs": [],
   "source": [
    "series = []\n",
    "for s in df['Product NM']:\n",
    "    words = s.split()\n",
    "    first_two_words = ' '.join(words[:2])\n",
    "    series.append(first_two_words.title())\n",
    "df[\"Series\"] = series"
   ]
  },
  {
   "cell_type": "code",
   "execution_count": 8,
   "metadata": {},
   "outputs": [
    {
     "data": {
      "text/plain": [
       "1855736"
      ]
     },
     "execution_count": 8,
     "metadata": {},
     "output_type": "execute_result"
    }
   ],
   "source": [
    "len(df['Product NM'])"
   ]
  },
  {
   "cell_type": "code",
   "execution_count": 9,
   "metadata": {},
   "outputs": [
    {
     "data": {
      "text/plain": [
       "1855736"
      ]
     },
     "execution_count": 9,
     "metadata": {},
     "output_type": "execute_result"
    }
   ],
   "source": [
    "len(df[\"Series\"])"
   ]
  },
  {
   "cell_type": "code",
   "execution_count": 10,
   "metadata": {},
   "outputs": [
    {
     "name": "stdout",
     "output_type": "stream",
     "text": [
      "9\n"
     ]
    },
    {
     "data": {
      "text/plain": [
       "Series\n",
       "Hp Amp           149.99\n",
       "Hp Deskjet        95.55\n",
       "Hp Envy          129.99\n",
       "Hp Ink           149.99\n",
       "Hp Officejet     217.00\n",
       "Hp Pagewide      746.74\n",
       "Hp Photosmart    149.99\n",
       "Hp Smart         449.99\n",
       "Hp Tango         115.60\n",
       "Name: Product Price, dtype: float64"
      ]
     },
     "execution_count": 10,
     "metadata": {},
     "output_type": "execute_result"
    }
   ],
   "source": [
    "avg_price = df.groupby(\"Series\")[\"Product Price\"].median()\n",
    "print(len(avg_price))\n",
    "avg_price = avg_price.fillna(avg_price.median())\n",
    "avg_price"
   ]
  },
  {
   "cell_type": "code",
   "execution_count": 11,
   "metadata": {},
   "outputs": [],
   "source": [
    "df = pd.merge(df, avg_price, how='left',on='Series',suffixes=['','_avg'])"
   ]
  },
  {
   "cell_type": "code",
   "execution_count": 12,
   "metadata": {
    "scrolled": true
   },
   "outputs": [
    {
     "data": {
      "text/html": [
       "<div>\n",
       "<style scoped>\n",
       "    .dataframe tbody tr th:only-of-type {\n",
       "        vertical-align: middle;\n",
       "    }\n",
       "\n",
       "    .dataframe tbody tr th {\n",
       "        vertical-align: top;\n",
       "    }\n",
       "\n",
       "    .dataframe thead th {\n",
       "        text-align: right;\n",
       "    }\n",
       "</style>\n",
       "<table border=\"1\" class=\"dataframe\">\n",
       "  <thead>\n",
       "    <tr style=\"text-align: right;\">\n",
       "      <th></th>\n",
       "      <th>Product NM</th>\n",
       "      <th>Product Price</th>\n",
       "      <th>Series</th>\n",
       "      <th>Product Price_avg</th>\n",
       "    </tr>\n",
       "  </thead>\n",
       "  <tbody>\n",
       "    <tr>\n",
       "      <th>8</th>\n",
       "      <td>HP OfficeJet 5258 All-in-One Printer</td>\n",
       "      <td>NaN</td>\n",
       "      <td>Hp Officejet</td>\n",
       "      <td>217.00</td>\n",
       "    </tr>\n",
       "    <tr>\n",
       "      <th>19</th>\n",
       "      <td>HP OfficeJet 5222 All-in-One Printer</td>\n",
       "      <td>NaN</td>\n",
       "      <td>Hp Officejet</td>\n",
       "      <td>217.00</td>\n",
       "    </tr>\n",
       "    <tr>\n",
       "      <th>34</th>\n",
       "      <td>HP ENVY 4501 e-All-in-One Printer</td>\n",
       "      <td>NaN</td>\n",
       "      <td>Hp Envy</td>\n",
       "      <td>129.99</td>\n",
       "    </tr>\n",
       "    <tr>\n",
       "      <th>46</th>\n",
       "      <td>HP OfficeJet 5258 All-in-One Printer</td>\n",
       "      <td>NaN</td>\n",
       "      <td>Hp Officejet</td>\n",
       "      <td>217.00</td>\n",
       "    </tr>\n",
       "    <tr>\n",
       "      <th>51</th>\n",
       "      <td>HP DeskJet 2732 All-in-One Printer</td>\n",
       "      <td>NaN</td>\n",
       "      <td>Hp Deskjet</td>\n",
       "      <td>95.55</td>\n",
       "    </tr>\n",
       "    <tr>\n",
       "      <th>54</th>\n",
       "      <td>HP OfficeJet 5258 All-in-One Printer</td>\n",
       "      <td>NaN</td>\n",
       "      <td>Hp Officejet</td>\n",
       "      <td>217.00</td>\n",
       "    </tr>\n",
       "    <tr>\n",
       "      <th>73</th>\n",
       "      <td>HP DeskJet 2732 All-in-One Printer</td>\n",
       "      <td>NaN</td>\n",
       "      <td>Hp Deskjet</td>\n",
       "      <td>95.55</td>\n",
       "    </tr>\n",
       "    <tr>\n",
       "      <th>78</th>\n",
       "      <td>HP ENVY 5665 e-All-in-One Printer</td>\n",
       "      <td>NaN</td>\n",
       "      <td>Hp Envy</td>\n",
       "      <td>129.99</td>\n",
       "    </tr>\n",
       "    <tr>\n",
       "      <th>83</th>\n",
       "      <td>HP Officejet Pro 8600 e-All-in-One Printer - N...</td>\n",
       "      <td>NaN</td>\n",
       "      <td>Hp Officejet</td>\n",
       "      <td>217.00</td>\n",
       "    </tr>\n",
       "    <tr>\n",
       "      <th>86</th>\n",
       "      <td>HP DeskJet Plus 4158 All-in-One Printer</td>\n",
       "      <td>NaN</td>\n",
       "      <td>Hp Deskjet</td>\n",
       "      <td>95.55</td>\n",
       "    </tr>\n",
       "  </tbody>\n",
       "</table>\n",
       "</div>"
      ],
      "text/plain": [
       "                                           Product NM  Product Price  \\\n",
       "8                HP OfficeJet 5258 All-in-One Printer            NaN   \n",
       "19               HP OfficeJet 5222 All-in-One Printer            NaN   \n",
       "34                  HP ENVY 4501 e-All-in-One Printer            NaN   \n",
       "46               HP OfficeJet 5258 All-in-One Printer            NaN   \n",
       "51                 HP DeskJet 2732 All-in-One Printer            NaN   \n",
       "54               HP OfficeJet 5258 All-in-One Printer            NaN   \n",
       "73                 HP DeskJet 2732 All-in-One Printer            NaN   \n",
       "78                  HP ENVY 5665 e-All-in-One Printer            NaN   \n",
       "83  HP Officejet Pro 8600 e-All-in-One Printer - N...            NaN   \n",
       "86            HP DeskJet Plus 4158 All-in-One Printer            NaN   \n",
       "\n",
       "          Series  Product Price_avg  \n",
       "8   Hp Officejet             217.00  \n",
       "19  Hp Officejet             217.00  \n",
       "34       Hp Envy             129.99  \n",
       "46  Hp Officejet             217.00  \n",
       "51    Hp Deskjet              95.55  \n",
       "54  Hp Officejet             217.00  \n",
       "73    Hp Deskjet              95.55  \n",
       "78       Hp Envy             129.99  \n",
       "83  Hp Officejet             217.00  \n",
       "86    Hp Deskjet              95.55  "
      ]
     },
     "execution_count": 12,
     "metadata": {},
     "output_type": "execute_result"
    }
   ],
   "source": [
    "df[df['Product Price'].isna()][[\"Product NM\", 'Product Price', \"Series\", \"Product Price_avg\"]].head(10)"
   ]
  },
  {
   "cell_type": "code",
   "execution_count": 13,
   "metadata": {},
   "outputs": [],
   "source": [
    "df[\"Product Price\"] = df['Product Price'].fillna(df['Product Price_avg'])"
   ]
  },
  {
   "cell_type": "code",
   "execution_count": 14,
   "metadata": {},
   "outputs": [],
   "source": [
    "df = df.drop(['Product Price_avg'],axis=1)"
   ]
  },
  {
   "cell_type": "code",
   "execution_count": 15,
   "metadata": {},
   "outputs": [
    {
     "data": {
      "text/html": [
       "<div>\n",
       "<style scoped>\n",
       "    .dataframe tbody tr th:only-of-type {\n",
       "        vertical-align: middle;\n",
       "    }\n",
       "\n",
       "    .dataframe tbody tr th {\n",
       "        vertical-align: top;\n",
       "    }\n",
       "\n",
       "    .dataframe thead th {\n",
       "        text-align: right;\n",
       "    }\n",
       "</style>\n",
       "<table border=\"1\" class=\"dataframe\">\n",
       "  <thead>\n",
       "    <tr style=\"text-align: right;\">\n",
       "      <th></th>\n",
       "      <th>Product NM</th>\n",
       "      <th>Product Price</th>\n",
       "      <th>Series</th>\n",
       "    </tr>\n",
       "  </thead>\n",
       "  <tbody>\n",
       "  </tbody>\n",
       "</table>\n",
       "</div>"
      ],
      "text/plain": [
       "Empty DataFrame\n",
       "Columns: [Product NM, Product Price, Series]\n",
       "Index: []"
      ]
     },
     "execution_count": 15,
     "metadata": {},
     "output_type": "execute_result"
    }
   ],
   "source": [
    "df[df['Product Price'].isna()][[\"Product NM\", 'Product Price', \"Series\"]]"
   ]
  },
  {
   "cell_type": "markdown",
   "metadata": {
    "id": "246mUZxQplMv"
   },
   "source": [
    "# HW Revenue"
   ]
  },
  {
   "cell_type": "code",
   "execution_count": 16,
   "metadata": {
    "id": "hEiuOhMfpmy5"
   },
   "outputs": [],
   "source": [
    "# Group the data by MDM id and sum the price of printers for each user\n",
    "revenue = df.groupby(\"MDM ID\").agg({\"Product Price\": \"sum\"})\n",
    "\n",
    "df = pd.merge(df, revenue, how='left', on=\"MDM ID\", suffixes=['','_rev'])\n",
    "df['HW Revenue'] = df['Product Price_rev']\n",
    "df = df.drop(['Product Price_rev'], axis=1)"
   ]
  },
  {
   "cell_type": "code",
   "execution_count": 17,
   "metadata": {
    "scrolled": true
   },
   "outputs": [
    {
     "data": {
      "text/html": [
       "<div>\n",
       "<style scoped>\n",
       "    .dataframe tbody tr th:only-of-type {\n",
       "        vertical-align: middle;\n",
       "    }\n",
       "\n",
       "    .dataframe tbody tr th {\n",
       "        vertical-align: top;\n",
       "    }\n",
       "\n",
       "    .dataframe thead th {\n",
       "        text-align: right;\n",
       "    }\n",
       "</style>\n",
       "<table border=\"1\" class=\"dataframe\">\n",
       "  <thead>\n",
       "    <tr style=\"text-align: right;\">\n",
       "      <th></th>\n",
       "      <th>MDM ID</th>\n",
       "      <th>Serial Number</th>\n",
       "      <th>Printer Total</th>\n",
       "      <th>HW Revenue</th>\n",
       "      <th>Product Price</th>\n",
       "    </tr>\n",
       "  </thead>\n",
       "  <tbody>\n",
       "    <tr>\n",
       "      <th>6</th>\n",
       "      <td>000765cd6c856e596726a426d1851ff6</td>\n",
       "      <td>3bdecdd9774a3ad293e00c5fef940ca2</td>\n",
       "      <td>2</td>\n",
       "      <td>227.28</td>\n",
       "      <td>131.73</td>\n",
       "    </tr>\n",
       "    <tr>\n",
       "      <th>21</th>\n",
       "      <td>0012a94acb15f8d9388e795b9926edc2</td>\n",
       "      <td>895389eaf42b3071949e266963fb9872</td>\n",
       "      <td>2</td>\n",
       "      <td>319.91</td>\n",
       "      <td>170.62</td>\n",
       "    </tr>\n",
       "    <tr>\n",
       "      <th>27</th>\n",
       "      <td>001b7b333c8f25b8255effbe363faf56</td>\n",
       "      <td>62f7470a86aa62aa277fb5b213f5b7f5</td>\n",
       "      <td>2</td>\n",
       "      <td>221.13</td>\n",
       "      <td>101.65</td>\n",
       "    </tr>\n",
       "    <tr>\n",
       "      <th>76</th>\n",
       "      <td>0033251658e7902d7988b3eba0253e26</td>\n",
       "      <td>2ed0668a49de381e39eeec15878801d8</td>\n",
       "      <td>2</td>\n",
       "      <td>400.61</td>\n",
       "      <td>170.62</td>\n",
       "    </tr>\n",
       "    <tr>\n",
       "      <th>82</th>\n",
       "      <td>00351a1728b8f988b3972bae33fcf8c5</td>\n",
       "      <td>61a854849a5c6e73af6a99b2db63baea</td>\n",
       "      <td>2</td>\n",
       "      <td>272.27</td>\n",
       "      <td>101.65</td>\n",
       "    </tr>\n",
       "    <tr>\n",
       "      <th>151</th>\n",
       "      <td>007443793a23d96b81f5d8e2cb7d5cbd</td>\n",
       "      <td>3d968cc48e0616ab0348b57764bd4d6e</td>\n",
       "      <td>2</td>\n",
       "      <td>616.99</td>\n",
       "      <td>399.99</td>\n",
       "    </tr>\n",
       "    <tr>\n",
       "      <th>178</th>\n",
       "      <td>008696a5b9ca466bc5cf4f6e4cc0f452</td>\n",
       "      <td>05691c7e94f170b96017a212db9cea62</td>\n",
       "      <td>2</td>\n",
       "      <td>512.00</td>\n",
       "      <td>256.00</td>\n",
       "    </tr>\n",
       "    <tr>\n",
       "      <th>185</th>\n",
       "      <td>008aed0b7f215fa80bf9ff8fd6cc9c72</td>\n",
       "      <td>eee6c99ddfd041d72ddc1a3158d7d4b0</td>\n",
       "      <td>2</td>\n",
       "      <td>163.31</td>\n",
       "      <td>67.76</td>\n",
       "    </tr>\n",
       "    <tr>\n",
       "      <th>186</th>\n",
       "      <td>008be9b5b6e3b76bf8f91afa046a3531</td>\n",
       "      <td>f84aa47b6cff76ec182ea00b44be3edd</td>\n",
       "      <td>2</td>\n",
       "      <td>607.70</td>\n",
       "      <td>210.21</td>\n",
       "    </tr>\n",
       "    <tr>\n",
       "      <th>197</th>\n",
       "      <td>009bad18868e23f9d6e7664a9f6f04ad</td>\n",
       "      <td>3edac2a38ecb384330f01137eac54784</td>\n",
       "      <td>2</td>\n",
       "      <td>448.00</td>\n",
       "      <td>256.00</td>\n",
       "    </tr>\n",
       "  </tbody>\n",
       "</table>\n",
       "</div>"
      ],
      "text/plain": [
       "                               MDM ID                     Serial Number  \\\n",
       "6    000765cd6c856e596726a426d1851ff6  3bdecdd9774a3ad293e00c5fef940ca2   \n",
       "21   0012a94acb15f8d9388e795b9926edc2  895389eaf42b3071949e266963fb9872   \n",
       "27   001b7b333c8f25b8255effbe363faf56  62f7470a86aa62aa277fb5b213f5b7f5   \n",
       "76   0033251658e7902d7988b3eba0253e26  2ed0668a49de381e39eeec15878801d8   \n",
       "82   00351a1728b8f988b3972bae33fcf8c5  61a854849a5c6e73af6a99b2db63baea   \n",
       "151  007443793a23d96b81f5d8e2cb7d5cbd  3d968cc48e0616ab0348b57764bd4d6e   \n",
       "178  008696a5b9ca466bc5cf4f6e4cc0f452  05691c7e94f170b96017a212db9cea62   \n",
       "185  008aed0b7f215fa80bf9ff8fd6cc9c72  eee6c99ddfd041d72ddc1a3158d7d4b0   \n",
       "186  008be9b5b6e3b76bf8f91afa046a3531  f84aa47b6cff76ec182ea00b44be3edd   \n",
       "197  009bad18868e23f9d6e7664a9f6f04ad  3edac2a38ecb384330f01137eac54784   \n",
       "\n",
       "     Printer Total  HW Revenue  Product Price  \n",
       "6                2      227.28         131.73  \n",
       "21               2      319.91         170.62  \n",
       "27               2      221.13         101.65  \n",
       "76               2      400.61         170.62  \n",
       "82               2      272.27         101.65  \n",
       "151              2      616.99         399.99  \n",
       "178              2      512.00         256.00  \n",
       "185              2      163.31          67.76  \n",
       "186              2      607.70         210.21  \n",
       "197              2      448.00         256.00  "
      ]
     },
     "execution_count": 17,
     "metadata": {},
     "output_type": "execute_result"
    }
   ],
   "source": [
    "df[df['Printer Total'] > 1].head(10).loc[:,['MDM ID', 'Serial Number', 'Printer Total', 'HW Revenue', 'Product Price']]"
   ]
  },
  {
   "cell_type": "code",
   "execution_count": 18,
   "metadata": {},
   "outputs": [
    {
     "data": {
      "text/plain": [
       "Index(['MDM ID', 'Serial Number', 'Printer Total', 'HW Revenue',\n",
       "       'Registration_Dt', 'First Purchase Date', 'Last Purchase Date',\n",
       "       'Product ID', 'Product Category NM', 'Product Line NM', 'Part DN',\n",
       "       'Product NM', 'Product Price', 'Location Desc', 'Age',\n",
       "       'Household Income', 'Gender', 'Occupation', 'Zip Code',\n",
       "       'Electronics Computing', 'Household Size', 'Reading General', 'Crafts',\n",
       "       'Photography', 'Computers', 'Computer Games', 'High Ticket Merchandise',\n",
       "       'Low Ticket Merchandise', 'Sports', 'Exercise Health', 'Movie Music',\n",
       "       'Home Improvement', 'High Tech Living', 'Number of Children',\n",
       "       'Education', 'Purchase Propensity (PP) Laptop',\n",
       "       'PP Small Format Printer', 'PP General Printer', 'PP Laser Printer',\n",
       "       'Buying Propensity (BP) Brother Ink', 'BP Canon Ink', 'BP HP Ink',\n",
       "       'BP Printers Brother', 'BP Priners Canon', 'BP Printers Epson',\n",
       "       'BP PC Acer', 'BP PC Lenovo', 'IBE2058_AMEX_GOLD',\n",
       "       'IBE2058_AMEX_REGULAR', 'IBE2059_DISCOVER_GOLD',\n",
       "       'IBE2059_DISCOVER_REGULAR', 'IBE2061_MASTERCARD_GOLD',\n",
       "       'IBE2061_MASTERCARD_REGULAR', 'IBE2062_VISA_GOLD',\n",
       "       'IBE2062_VISA_REGULAR', 'lifetime_loyalty_class',\n",
       "       'supply_selectability_number', 'user_sub_environment', 'ampv',\n",
       "       'ave_cc_mo', 'blk_cc_mo', 'color_cc_mo', 'hp_share', 'days', 'trade_cc',\n",
       "       'hp_cc', 'first_report', 'last_report', 'subscription_id',\n",
       "       'enrolled_on_date', 'subscription_date', 'unsubscribe_date',\n",
       "       'obsolete_date', 'subscription_state', 'current_plan', 'Series'],\n",
       "      dtype='object')"
      ]
     },
     "execution_count": 18,
     "metadata": {},
     "output_type": "execute_result"
    }
   ],
   "source": [
    "df.columns"
   ]
  },
  {
   "cell_type": "markdown",
   "metadata": {
    "id": "rtC8Lw3kpqy8"
   },
   "source": [
    "# First_report last_report"
   ]
  },
  {
   "cell_type": "code",
   "execution_count": 19,
   "metadata": {
    "id": "ZXzXY5ajpred"
   },
   "outputs": [],
   "source": [
    "# Convert Registration_Dt column to datetime\n",
    "df['first_report'] = pd.to_datetime(df['first_report'])\n",
    "df['last_report'] = pd.to_datetime(df['last_report'])"
   ]
  },
  {
   "cell_type": "markdown",
   "metadata": {
    "id": "BLhgFOWSptM3"
   },
   "source": [
    "# New Variable : first report year, last report year"
   ]
  },
  {
   "cell_type": "code",
   "execution_count": 20,
   "metadata": {
    "id": "lBiS8rS6puye"
   },
   "outputs": [],
   "source": [
    "# Extract year, month, and day components\n",
    "df['first_report_y'] = df['first_report'].dt.year\n",
    "df['last_report_y'] = df['last_report'].dt.year"
   ]
  },
  {
   "cell_type": "code",
   "execution_count": 21,
   "metadata": {},
   "outputs": [
    {
     "data": {
      "text/plain": [
       "Index(['MDM ID', 'Serial Number', 'Printer Total', 'HW Revenue',\n",
       "       'Registration_Dt', 'First Purchase Date', 'Last Purchase Date',\n",
       "       'Product ID', 'Product Category NM', 'Product Line NM', 'Part DN',\n",
       "       'Product NM', 'Product Price', 'Location Desc', 'Age',\n",
       "       'Household Income', 'Gender', 'Occupation', 'Zip Code',\n",
       "       'Electronics Computing', 'Household Size', 'Reading General', 'Crafts',\n",
       "       'Photography', 'Computers', 'Computer Games', 'High Ticket Merchandise',\n",
       "       'Low Ticket Merchandise', 'Sports', 'Exercise Health', 'Movie Music',\n",
       "       'Home Improvement', 'High Tech Living', 'Number of Children',\n",
       "       'Education', 'Purchase Propensity (PP) Laptop',\n",
       "       'PP Small Format Printer', 'PP General Printer', 'PP Laser Printer',\n",
       "       'Buying Propensity (BP) Brother Ink', 'BP Canon Ink', 'BP HP Ink',\n",
       "       'BP Printers Brother', 'BP Priners Canon', 'BP Printers Epson',\n",
       "       'BP PC Acer', 'BP PC Lenovo', 'IBE2058_AMEX_GOLD',\n",
       "       'IBE2058_AMEX_REGULAR', 'IBE2059_DISCOVER_GOLD',\n",
       "       'IBE2059_DISCOVER_REGULAR', 'IBE2061_MASTERCARD_GOLD',\n",
       "       'IBE2061_MASTERCARD_REGULAR', 'IBE2062_VISA_GOLD',\n",
       "       'IBE2062_VISA_REGULAR', 'lifetime_loyalty_class',\n",
       "       'supply_selectability_number', 'user_sub_environment', 'ampv',\n",
       "       'ave_cc_mo', 'blk_cc_mo', 'color_cc_mo', 'hp_share', 'days', 'trade_cc',\n",
       "       'hp_cc', 'first_report', 'last_report', 'subscription_id',\n",
       "       'enrolled_on_date', 'subscription_date', 'unsubscribe_date',\n",
       "       'obsolete_date', 'subscription_state', 'current_plan', 'Series',\n",
       "       'first_report_y', 'last_report_y'],\n",
       "      dtype='object')"
      ]
     },
     "execution_count": 21,
     "metadata": {},
     "output_type": "execute_result"
    }
   ],
   "source": [
    "df.columns"
   ]
  },
  {
   "cell_type": "code",
   "execution_count": 22,
   "metadata": {},
   "outputs": [],
   "source": [
    "df = df.drop(['Serial Number','Last Purchase Date','First Purchase Date', 'Product ID', 'Product Category NM', 'Product Line NM', 'Part DN','Product NM', 'Location Desc', 'Home Improvement', 'High Tech Living'], axis=1)"
   ]
  },
  {
   "cell_type": "code",
   "execution_count": 23,
   "metadata": {},
   "outputs": [
    {
     "data": {
      "text/plain": [
       "Index(['MDM ID', 'Printer Total', 'HW Revenue', 'Registration_Dt',\n",
       "       'Product Price', 'Age', 'Household Income', 'Gender', 'Occupation',\n",
       "       'Zip Code', 'Electronics Computing', 'Household Size',\n",
       "       'Reading General', 'Crafts', 'Photography', 'Computers',\n",
       "       'Computer Games', 'High Ticket Merchandise', 'Low Ticket Merchandise',\n",
       "       'Sports', 'Exercise Health', 'Movie Music', 'Number of Children',\n",
       "       'Education', 'Purchase Propensity (PP) Laptop',\n",
       "       'PP Small Format Printer', 'PP General Printer', 'PP Laser Printer',\n",
       "       'Buying Propensity (BP) Brother Ink', 'BP Canon Ink', 'BP HP Ink',\n",
       "       'BP Printers Brother', 'BP Priners Canon', 'BP Printers Epson',\n",
       "       'BP PC Acer', 'BP PC Lenovo', 'IBE2058_AMEX_GOLD',\n",
       "       'IBE2058_AMEX_REGULAR', 'IBE2059_DISCOVER_GOLD',\n",
       "       'IBE2059_DISCOVER_REGULAR', 'IBE2061_MASTERCARD_GOLD',\n",
       "       'IBE2061_MASTERCARD_REGULAR', 'IBE2062_VISA_GOLD',\n",
       "       'IBE2062_VISA_REGULAR', 'lifetime_loyalty_class',\n",
       "       'supply_selectability_number', 'user_sub_environment', 'ampv',\n",
       "       'ave_cc_mo', 'blk_cc_mo', 'color_cc_mo', 'hp_share', 'days', 'trade_cc',\n",
       "       'hp_cc', 'first_report', 'last_report', 'subscription_id',\n",
       "       'enrolled_on_date', 'subscription_date', 'unsubscribe_date',\n",
       "       'obsolete_date', 'subscription_state', 'current_plan', 'Series',\n",
       "       'first_report_y', 'last_report_y'],\n",
       "      dtype='object')"
      ]
     },
     "execution_count": 23,
     "metadata": {},
     "output_type": "execute_result"
    }
   ],
   "source": [
    "df.columns"
   ]
  },
  {
   "cell_type": "markdown",
   "metadata": {
    "id": "jpHR53vaXeYH"
   },
   "source": [
    "# 3. Part 03 of Variables -- Print Telemetry & Subscription"
   ]
  },
  {
   "cell_type": "markdown",
   "metadata": {
    "id": "nyQKRVWL8zfa"
   },
   "source": [
    "## lifetime_loyalty_class"
   ]
  },
  {
   "cell_type": "code",
   "execution_count": 24,
   "metadata": {},
   "outputs": [],
   "source": [
    "df_copy = df.copy(deep=True)"
   ]
  },
  {
   "cell_type": "code",
   "execution_count": 25,
   "metadata": {
    "id": "WAgBGkl08z6G"
   },
   "outputs": [],
   "source": [
    "# Remove NA\n",
    "df = df.dropna(subset='lifetime_loyalty_class')\n"
   ]
  },
  {
   "cell_type": "markdown",
   "metadata": {
    "id": "FaYnEMsi9JOV"
   },
   "source": [
    "## supply_selectability_number"
   ]
  },
  {
   "cell_type": "code",
   "execution_count": 26,
   "metadata": {
    "id": "A20FwnVO9KmW"
   },
   "outputs": [],
   "source": [
    "# Return the number of ink types available\n",
    "df['available_ink_number'] = df['supply_selectability_number'].str.split(\"/\").str.len()\n",
    "df = df.drop(['supply_selectability_number'], axis = 1)"
   ]
  },
  {
   "cell_type": "markdown",
   "metadata": {
    "id": "Bg1q9u609UBi"
   },
   "source": [
    "## user_sub_environment"
   ]
  },
  {
   "cell_type": "code",
   "execution_count": 27,
   "metadata": {
    "id": "O1cFSXAV9Vn9"
   },
   "outputs": [],
   "source": [
    "# Combine \"Home\" \"Office\" \"Unknown\" -> extract the first word\n",
    "df['user_sub_environment'] = df['user_sub_environment'].str.split().str[0]"
   ]
  },
  {
   "cell_type": "markdown",
   "metadata": {
    "id": "R92o7Gdk9ipx"
   },
   "source": [
    "## ampv: log + 1"
   ]
  },
  {
   "cell_type": "code",
   "execution_count": 28,
   "metadata": {
    "id": "v_U4mBZY9YYd"
   },
   "outputs": [],
   "source": [
    "df['ampv_log'] = np.log(df['ampv']+1)"
   ]
  },
  {
   "cell_type": "markdown",
   "metadata": {
    "id": "FUZwC-mU9nAT"
   },
   "source": [
    "## ave_cc_mo: Remove\n",
    "## blk_cc_mo, color_cc_mo: log + 1"
   ]
  },
  {
   "cell_type": "code",
   "execution_count": 29,
   "metadata": {
    "id": "mySNkOFe9oWd"
   },
   "outputs": [],
   "source": [
    "df = df.drop(['ave_cc_mo'], axis=1)\n",
    "\n",
    "df['blk_log'] = np.log(df['blk_cc_mo']+1)\n",
    "df['color_log'] = np.log(df['color_cc_mo']+1)\n",
    "\n",
    "df = df.drop(['blk_cc_mo', 'color_cc_mo'], axis=1)"
   ]
  },
  {
   "cell_type": "markdown",
   "metadata": {
    "id": "UaBWD4fa9x5-"
   },
   "source": [
    "## fill na with 1; hp_share = hp_cc/trade_cc"
   ]
  },
  {
   "cell_type": "code",
   "execution_count": 30,
   "metadata": {
    "id": "VLwZLnsM94Q5"
   },
   "outputs": [],
   "source": [
    "df['hp_share'] = df['hp_share'].fillna(1)"
   ]
  },
  {
   "cell_type": "markdown",
   "metadata": {
    "id": "PSnslQkAAYUQ"
   },
   "source": [
    "## trade_cc: leave it \n",
    "## hp_cc: remove"
   ]
  },
  {
   "cell_type": "markdown",
   "metadata": {
    "id": "OCUFzMo5YkM1"
   },
   "source": [
    "## days: remove "
   ]
  },
  {
   "cell_type": "code",
   "execution_count": 32,
   "metadata": {
    "id": "dw9BZVOZAagN"
   },
   "outputs": [],
   "source": [
    "df = df.drop(['hp_cc','days'], axis=1)"
   ]
  },
  {
   "cell_type": "markdown",
   "metadata": {
    "id": "uuowbO8cAiFF"
   },
   "source": [
    "## subscription_id -> subscribed: replace na with 0, non-na with 1"
   ]
  },
  {
   "cell_type": "code",
   "execution_count": 34,
   "metadata": {
    "id": "SIkvWB2PAkcv"
   },
   "outputs": [],
   "source": [
    "df['subscribed'] = np.where(df['subscription_id'].isna(), 0, 1)"
   ]
  },
  {
   "cell_type": "markdown",
   "metadata": {
    "id": "reylSk-nAmaS"
   },
   "source": [
    "## subscription_state == \"subscribed\" -> df['subscription_paid']"
   ]
  },
  {
   "cell_type": "code",
   "execution_count": 35,
   "metadata": {
    "id": "52Lj-kTQAoJ_"
   },
   "outputs": [],
   "source": [
    "df['subscription_paid'] = np.where(df['subscription_state'] == 'subscribed', 1, 0)\n",
    "df['obsolete'] = np.where((df['subscription_state'] == 'obsolete') | (df['subscription_state'] == 'obsolete_replacement'), 1, 0)\n",
    "df['unsubscribed'] = np.where((df['subscription_state'] == 'unsubscribed') | (df['subscription_state'] == 'initiated_unsubscribe'), 1, 0)\n",
    "df = df.drop(['subscription_id', 'enrolled_on_date', 'subscription_date','unsubscribe_date', 'obsolete_date', 'subscription_state'], axis=1)"
   ]
  },
  {
   "cell_type": "markdown",
   "metadata": {
    "id": "oMoREb0mAuWp"
   },
   "source": [
    "## current_plan: extract the number part; fillna(0)"
   ]
  },
  {
   "cell_type": "code",
   "execution_count": 37,
   "metadata": {
    "id": "V95bVAhXAvpR"
   },
   "outputs": [],
   "source": [
    "df['current_plan'] = df['current_plan'].str.split().str[0].fillna(0)"
   ]
  },
  {
   "cell_type": "markdown",
   "metadata": {},
   "source": [
    "## Credit Card"
   ]
  },
  {
   "cell_type": "code",
   "execution_count": null,
   "metadata": {
    "scrolled": true
   },
   "outputs": [],
   "source": [
    "list_mode = ['Age', 'Number of Children', 'Education', 'Household Income', 'Occupation', 'Zip Code', 'region']\n",
    "for i in list_mode:\n",
    "    mode_value_temp = df[i].mode()[0]\n",
    "    df[i].fillna(mode_value_temp, inplace = True)"
   ]
  },
  {
   "cell_type": "code",
   "execution_count": 38,
   "metadata": {},
   "outputs": [],
   "source": [
    "df = df.reset_index(drop=True)"
   ]
  },
  {
   "cell_type": "code",
   "execution_count": 40,
   "metadata": {},
   "outputs": [
    {
     "data": {
      "text/plain": [
       "115515"
      ]
     },
     "execution_count": 40,
     "metadata": {},
     "output_type": "execute_result"
    }
   ],
   "source": [
    "df_survey_PP = df.dropna(subset = 'PP Laser Printer')\n",
    "len(df_survey_PP)"
   ]
  },
  {
   "cell_type": "code",
   "execution_count": 41,
   "metadata": {
    "scrolled": false
   },
   "outputs": [
    {
     "name": "stdout",
     "output_type": "stream",
     "text": [
      "Age:\t1.0\n",
      "Household Income:\t0.214708046574038\n",
      "Gender:\t0.11448729602216162\n",
      "Occupation:\t0.5659178461671645\n",
      "Zip Code:\t0.11137081764273038\n",
      "Electronics Computing:\t0.7414448340042419\n",
      "Household Size:\t0.10626325585421807\n",
      "Reading General:\t0.33287451846080596\n",
      "Crafts:\t0.5145738648660347\n",
      "Photography:\t0.8573432021815348\n",
      "Computers:\t0.27532355105397566\n",
      "Computer Games:\t0.9361208501060468\n",
      "High Ticket Merchandise:\t0.10626325585421807\n",
      "Low Ticket Merchandise:\t0.10626325585421807\n",
      "Sports:\t0.443422932086742\n",
      "Exercise Health:\t0.4217807211184695\n",
      "Movie Music:\t0.5243128598017573\n",
      "Number of Children:\t0.35441284681643076\n",
      "Education:\t0.10638445223564039\n",
      "IBE2058_AMEX_GOLD:\t0.10626325585421807\n",
      "IBE2058_AMEX_REGULAR:\t0.10626325585421807\n",
      "IBE2059_DISCOVER_GOLD:\t0.10626325585421807\n",
      "IBE2059_DISCOVER_REGULAR:\t0.10626325585421807\n",
      "IBE2061_MASTERCARD_GOLD:\t0.10626325585421807\n",
      "IBE2061_MASTERCARD_REGULAR:\t0.10626325585421807\n",
      "IBE2062_VISA_GOLD:\t0.10626325585421807\n",
      "IBE2062_VISA_REGULAR:\t0.10626325585421807\n"
     ]
    }
   ],
   "source": [
    "for col in df_survey_PP.columns:\n",
    "    na = sum(df_survey_PP[col].isna())\n",
    "    if na > 0:\n",
    "        print(f\"{col}:\\t{na/len(df_survey_PP)}\")"
   ]
  },
  {
   "cell_type": "code",
   "execution_count": null,
   "metadata": {},
   "outputs": [],
   "source": []
  },
  {
   "cell_type": "code",
   "execution_count": 51,
   "metadata": {},
   "outputs": [],
   "source": [
    "df_nonsurvey = df.iloc[list(set(df.index)-set(df_survey_PP.index)),:]"
   ]
  },
  {
   "cell_type": "code",
   "execution_count": 52,
   "metadata": {},
   "outputs": [
    {
     "data": {
      "text/plain": [
       "1740186"
      ]
     },
     "execution_count": 52,
     "metadata": {},
     "output_type": "execute_result"
    }
   ],
   "source": [
    "len(df_nonsurvey)"
   ]
  },
  {
   "cell_type": "code",
   "execution_count": 56,
   "metadata": {},
   "outputs": [
    {
     "data": {
      "text/plain": [
       "Index(['Age', 'Household Income', 'Gender', 'Occupation', 'Zip Code',\n",
       "       'Electronics Computing', 'Household Size', 'Reading General', 'Crafts',\n",
       "       'Photography', 'Computers', 'Computer Games', 'High Ticket Merchandise',\n",
       "       'Low Ticket Merchandise', 'Sports', 'Exercise Health', 'Movie Music',\n",
       "       'Number of Children', 'Education', 'Purchase Propensity (PP) Laptop',\n",
       "       'PP Small Format Printer', 'PP General Printer', 'PP Laser Printer',\n",
       "       'Buying Propensity (BP) Brother Ink', 'BP Canon Ink', 'BP HP Ink',\n",
       "       'BP Printers Brother', 'BP Priners Canon', 'BP Printers Epson',\n",
       "       'BP PC Acer', 'BP PC Lenovo'],\n",
       "      dtype='object')"
      ]
     },
     "execution_count": 56,
     "metadata": {},
     "output_type": "execute_result"
    }
   ],
   "source": [
    "survey_cols = df.iloc[:,5:36].columns\n",
    "survey_cols"
   ]
  },
  {
   "cell_type": "code",
   "execution_count": 57,
   "metadata": {
    "scrolled": true
   },
   "outputs": [],
   "source": [
    "df_nonsurvey = df_nonsurvey.drop(survey_cols, axis=1)"
   ]
  },
  {
   "cell_type": "code",
   "execution_count": 58,
   "metadata": {},
   "outputs": [
    {
     "data": {
      "text/plain": [
       "Index(['MDM ID', 'Printer Total', 'HW Revenue', 'Registration_Dt',\n",
       "       'Product Price', 'lifetime_loyalty_class', 'user_sub_environment',\n",
       "       'ampv', 'hp_share', 'trade_cc', 'first_report', 'last_report',\n",
       "       'current_plan', 'Series', 'first_report_y', 'last_report_y',\n",
       "       'available_ink_number', 'ampv_log', 'blk_log', 'color_log',\n",
       "       'subscribed', 'subscription_paid', 'obsolete', 'unsubscribed',\n",
       "       'credit_gold'],\n",
       "      dtype='object')"
      ]
     },
     "execution_count": 58,
     "metadata": {},
     "output_type": "execute_result"
    }
   ],
   "source": [
    "df_nonsurvey.columns"
   ]
  },
  {
   "cell_type": "code",
   "execution_count": null,
   "metadata": {},
   "outputs": [],
   "source": [
    "len(df_nonsurvey)"
   ]
  },
  {
   "cell_type": "code",
   "execution_count": null,
   "metadata": {},
   "outputs": [],
   "source": [
    "len(df_survey)"
   ]
  },
  {
   "cell_type": "code",
   "execution_count": null,
   "metadata": {},
   "outputs": [],
   "source": [
    "import os"
   ]
  },
  {
   "cell_type": "code",
   "execution_count": null,
   "metadata": {},
   "outputs": [],
   "source": [
    "os.getcwd()"
   ]
  },
  {
   "cell_type": "code",
   "execution_count": 60,
   "metadata": {},
   "outputs": [],
   "source": [
    "df_survey_PP.to_csv(\"C:\\\\UCD\\\\Hackathon\\\\survey_data.csv\")"
   ]
  },
  {
   "cell_type": "code",
   "execution_count": 59,
   "metadata": {},
   "outputs": [],
   "source": [
    "df_nonsurvey.to_csv(\"C:\\\\UCD\\\\Hackathon\\\\nonsurvey_data.csv\")"
   ]
  },
  {
   "cell_type": "markdown",
   "metadata": {
    "id": "1Mvkt9YtOCZ_"
   },
   "source": [
    "# 2. Part 02 of Variables -- Demographic & Psychographic Variables"
   ]
  },
  {
   "cell_type": "code",
   "execution_count": null,
   "metadata": {
    "scrolled": true
   },
   "outputs": [],
   "source": [
    "from uszipcode import SearchEngine\n",
    "df['Zip Code'] = df['Zip Code'].str.extract(r'^(\\d{5})')\n",
    "\n",
    "#: Replace Zip Codes with corresponding states\n",
    "zip_code_state_dict = {}\n",
    "\n",
    "search = SearchEngine()\n",
    "zip_codes = df['Zip Code'].dropna().unique()\n",
    "\n",
    "for zip_code in zip_codes:\n",
    "    result = search.by_zipcode(zip_code)\n",
    "    if result:\n",
    "        zip_code_state_dict[zip_code] = result.state\n",
    "\n",
    "df['Zip Code'] = df['Zip Code'].map(zip_code_state_dict).fillna(df['Zip Code'])"
   ]
  },
  {
   "cell_type": "code",
   "execution_count": null,
   "metadata": {},
   "outputs": [],
   "source": [
    "#: Generate a new column region corresponding to the state\n",
    "def get_region(state):\n",
    "    if state in ['ME', 'VT', 'NH', 'MA', 'RI', 'CT', 'NY', 'NJ', 'PA']:\n",
    "        return 'northeast'\n",
    "    elif state in ['MD', 'DE', 'VA', 'WV', 'KY', 'NC', 'SC', 'TN', 'GA', 'AL', 'MS', 'FL']:\n",
    "        return 'southeast'\n",
    "    elif state in ['OH', 'IN', 'IL', 'MI', 'WI', 'MN', 'IA', 'MO', 'ND', 'SD', 'NE', 'KS']:\n",
    "        return 'midwest'\n",
    "    elif state in ['TX', 'OK', 'AR', 'LA', 'NM', 'AZ']:\n",
    "        return 'southwest'\n",
    "    elif state in ['WA', 'OR', 'CA', 'AK', 'HI', 'MT', 'ID', 'WY', 'NV', 'UT', 'CO']:\n",
    "        return 'west'\n",
    "    else:\n",
    "        return None\n",
    "\n",
    "df['region'] = df['Zip Code'].apply(get_region)"
   ]
  },
  {
   "cell_type": "code",
   "execution_count": null,
   "metadata": {},
   "outputs": [],
   "source": [
    "# Round Age, # of Children, Education\n",
    "df[['Age','Number of Children', 'Education']] = df[['Age','Number of Children',\"Education\"]].apply(lambda x: x.round().astype(int))"
   ]
  },
  {
   "cell_type": "markdown",
   "metadata": {
    "id": "ZsEAQyq2kZWW"
   },
   "source": [
    "## Occupations"
   ]
  },
  {
   "cell_type": "code",
   "execution_count": null,
   "metadata": {
    "id": "RzAnKdB1kYMV"
   },
   "outputs": [],
   "source": [
    "# D-L -> C (Self-employeed); W-Y -> 1 (Professional); AB9V -> Z (Religious, Military, Educator, Farmer -> Other)\n",
    "df[\"Occupation\"] = df['Occupation'].replace(['[D-L]','[W-Y]','[AB9V]'],[\"C\", '1' ,'Z'],regex=True)"
   ]
  },
  {
   "cell_type": "code",
   "execution_count": 49,
   "metadata": {
    "scrolled": true
   },
   "outputs": [],
   "source": [
    "# Combine \"Gold\" credit card <- only \"Gold\" has business meaning\n",
    "df[\"credit_gold\"] = df['IBE2058_AMEX_GOLD'] + df['IBE2061_MASTERCARD_GOLD'] + df['IBE2062_VISA_GOLD']\n",
    "\n",
    "# Fill na with 0 -> Nongold\n",
    "df['credit_gold'] = df['credit_gold'].fillna(0)"
   ]
  },
  {
   "cell_type": "code",
   "execution_count": 50,
   "metadata": {},
   "outputs": [],
   "source": [
    "# Drop credit card related column\n",
    "df = df.drop(['IBE2058_AMEX_GOLD','IBE2058_AMEX_REGULAR', 'IBE2059_DISCOVER_GOLD','IBE2059_DISCOVER_REGULAR', 'IBE2061_MASTERCARD_GOLD', 'IBE2061_MASTERCARD_REGULAR', 'IBE2062_VISA_GOLD', 'IBE2062_VISA_REGULAR'], axis=1)"
   ]
  }
 ],
 "metadata": {
  "colab": {
   "provenance": []
  },
  "kernelspec": {
   "display_name": "Python 3 (ipykernel)",
   "language": "python",
   "name": "python3"
  },
  "language_info": {
   "codemirror_mode": {
    "name": "ipython",
    "version": 3
   },
   "file_extension": ".py",
   "mimetype": "text/x-python",
   "name": "python",
   "nbconvert_exporter": "python",
   "pygments_lexer": "ipython3",
   "version": "3.9.13"
  }
 },
 "nbformat": 4,
 "nbformat_minor": 1
}
