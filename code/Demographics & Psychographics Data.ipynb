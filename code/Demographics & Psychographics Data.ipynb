{
 "cells": [
  {
   "cell_type": "code",
   "execution_count": null,
   "id": "01d880bb",
   "metadata": {},
   "outputs": [],
   "source": [
    "df_2['Zip Code'] = df_2['Zip Code'].str.extract(r'^(\\d{5})')\n",
    "\n",
    "#: Replace Zip Codes with corresponding states\n",
    "zip_code_state_dict = {}\n",
    "\n",
    "search = SearchEngine()\n",
    "zip_codes = df_2['Zip Code'].dropna().unique()\n",
    "\n",
    "for zip_code in zip_codes:\n",
    "    result = search.by_zipcode(zip_code)\n",
    "    if result:\n",
    "        zip_code_state_dict[zip_code] = result.state\n",
    "\n",
    "df_2['Zip Code'] = df_2['Zip Code'].map(zip_code_state_dict).fillna(df_2['Zip Code'])"
   ]
  },
  {
   "cell_type": "code",
   "execution_count": null,
   "id": "b8ef3818",
   "metadata": {},
   "outputs": [],
   "source": [
    "#: Generate a new column region corresponding to the state\n",
    "def get_region(state):\n",
    "    if state in ['ME', 'NH', 'VT', 'MA', 'RI', 'CT', 'NY', 'NJ', 'PA', 'DE', 'MD', 'DC']:\n",
    "        return 'northeast'\n",
    "    elif state in ['OH', 'IN', 'IL', 'MI', 'WI', 'MN', 'IA', 'MO', 'ND', 'SD', 'NE', 'KS']:\n",
    "        return 'midwest'\n",
    "    elif state in ['VA', 'WV', 'NC', 'SC', 'GA', 'FL', 'KY', 'TN', 'AL', 'MS', 'AR', 'LA', 'OK', 'TX']:\n",
    "        return 'south'\n",
    "    elif state in ['MT', 'ID', 'WY', 'UT', 'CO', 'NM', 'AZ', 'NV']:\n",
    "        return 'west'\n",
    "    elif state in ['WA', 'OR', 'CA', 'AK', 'HI']:\n",
    "        return 'pacific'\n",
    "    else:\n",
    "        return None\n",
    "\n",
    "df_2['region'] = df_2['Zip Code'].apply(get_region)"
   ]
  },
  {
   "cell_type": "code",
   "execution_count": null,
   "id": "6b29fbd7",
   "metadata": {},
   "outputs": [],
   "source": [
    "#: Remove columns that are all nulls\n",
    "df_2 = df_2.drop(['Home Improvement', 'High Tech Living'], axis=1)"
   ]
  },
  {
   "cell_type": "code",
   "execution_count": null,
   "id": "f3b11fab",
   "metadata": {},
   "outputs": [],
   "source": [
    "# D-L -> C (Self-employeed); W-Y -> 1 (Professional); AB9V -> Z (Religious, Military, Educator, Farmer -> Other)\n",
    "df_2[\"Occupation\"] = df_2['Occupation'].replace(['[D-L]','[W-Y]','[AB9V]'],[\"C\", '1' ,'Z'],regex=True)"
   ]
  }
 ],
 "metadata": {
  "kernelspec": {
   "display_name": "Python 3 (ipykernel)",
   "language": "python",
   "name": "python3"
  },
  "language_info": {
   "codemirror_mode": {
    "name": "ipython",
    "version": 3
   },
   "file_extension": ".py",
   "mimetype": "text/x-python",
   "name": "python",
   "nbconvert_exporter": "python",
   "pygments_lexer": "ipython3",
   "version": "3.9.13"
  }
 },
 "nbformat": 4,
 "nbformat_minor": 5
}
