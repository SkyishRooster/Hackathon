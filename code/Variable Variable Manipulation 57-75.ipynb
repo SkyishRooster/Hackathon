{
 "cells": [
  {
   "cell_type": "code",
   "execution_count": 67,
   "id": "7e1ccec0",
   "metadata": {},
   "outputs": [],
   "source": [
    "import pandas as pd\n",
    "import numpy as np\n",
    "import regex as re\n",
    "import matplotlib.pyplot as plt\n",
    "import seaborn as sns"
   ]
  },
  {
   "cell_type": "code",
   "execution_count": 33,
   "id": "07473dca",
   "metadata": {},
   "outputs": [],
   "source": [
    "df = pd.read_csv(\"ucsd_US_print_dataset_03162023.csv\")"
   ]
  },
  {
   "cell_type": "code",
   "execution_count": 60,
   "id": "e205e194",
   "metadata": {},
   "outputs": [],
   "source": [
    "df_ori = pd.read_csv(\"ucsd_US_print_dataset_03162023.csv\").iloc[:,55:]"
   ]
  },
  {
   "cell_type": "code",
   "execution_count": 34,
   "id": "08a3ad8f",
   "metadata": {},
   "outputs": [
    {
     "data": {
      "text/plain": [
       "Index(['lifetime_loyalty_class', 'supply_selectability_number',\n",
       "       'user_sub_environment', 'ampv', 'ave_cc_mo', 'blk_cc_mo', 'color_cc_mo',\n",
       "       'hp_share', 'days', 'trade_cc', 'hp_cc', 'first_report', 'last_report',\n",
       "       'subscription_id', 'enrolled_on_date', 'subscription_date',\n",
       "       'unsubscribe_date', 'obsolete_date', 'subscription_state',\n",
       "       'current_plan'],\n",
       "      dtype='object')"
      ]
     },
     "execution_count": 34,
     "metadata": {},
     "output_type": "execute_result"
    }
   ],
   "source": [
    "cols = df.columns[55:]\n",
    "cols"
   ]
  },
  {
   "cell_type": "code",
   "execution_count": 35,
   "id": "eec85815",
   "metadata": {},
   "outputs": [
    {
     "name": "stdout",
     "output_type": "stream",
     "text": [
      "lifetime_loyalty_class:\t46\n",
      "supply_selectability_number:\t0\n",
      "user_sub_environment:\t0\n",
      "ampv:\t0\n",
      "ave_cc_mo:\t0\n",
      "blk_cc_mo:\t0\n",
      "color_cc_mo:\t0\n",
      "hp_share:\t562565\n",
      "days:\t0\n",
      "trade_cc:\t0\n",
      "hp_cc:\t0\n",
      "first_report:\t0\n",
      "last_report:\t0\n",
      "subscription_id:\t1372521\n",
      "enrolled_on_date:\t1372521\n",
      "subscription_date:\t1581798\n",
      "unsubscribe_date:\t2098151\n",
      "obsolete_date:\t2089130\n",
      "subscription_state:\t1372521\n",
      "current_plan:\t1372521\n"
     ]
    }
   ],
   "source": [
    "for col in cols:\n",
    "    print(f\"{col}:\\t{sum(df[col].isna())}\")"
   ]
  },
  {
   "cell_type": "markdown",
   "id": "ce4663e2",
   "metadata": {},
   "source": [
    "## lifetime_loyalty_class"
   ]
  },
  {
   "cell_type": "code",
   "execution_count": 36,
   "id": "6e965b70",
   "metadata": {},
   "outputs": [
    {
     "data": {
      "text/plain": [
       "lifetime_loyalty_class\n",
       "DISLOYAL               270973\n",
       "HOST ONLY              476443\n",
       "LOYAL                 1193041\n",
       "NO INK CONSUMPTION      19795\n",
       "NON HP ONLY             24807\n",
       "SUSPECT ONLY            34257\n",
       "Name: MDM ID, dtype: int64"
      ]
     },
     "execution_count": 36,
     "metadata": {},
     "output_type": "execute_result"
    }
   ],
   "source": [
    "df.groupby('lifetime_loyalty_class')['MDM ID'].nunique()"
   ]
  },
  {
   "cell_type": "code",
   "execution_count": 37,
   "id": "d9a2f5df",
   "metadata": {},
   "outputs": [
    {
     "data": {
      "text/plain": [
       "2169780"
      ]
     },
     "execution_count": 37,
     "metadata": {},
     "output_type": "execute_result"
    }
   ],
   "source": [
    "# Remove NA\n",
    "df = df.dropna(subset='lifetime_loyalty_class')\n",
    "len(df)"
   ]
  },
  {
   "cell_type": "markdown",
   "id": "ff31f37e",
   "metadata": {},
   "source": [
    "## supply_selectability_number"
   ]
  },
  {
   "cell_type": "code",
   "execution_count": 38,
   "id": "3311a8d8",
   "metadata": {},
   "outputs": [
    {
     "data": {
      "text/plain": [
       "0    63/123/302/803\n",
       "1        67/305/805\n",
       "2        64/303/804\n",
       "3       910/912/915\n",
       "4        64/303/804\n",
       "Name: supply_selectability_number, dtype: object"
      ]
     },
     "execution_count": 38,
     "metadata": {},
     "output_type": "execute_result"
    }
   ],
   "source": [
    "df['supply_selectability_number'].head()"
   ]
  },
  {
   "cell_type": "code",
   "execution_count": 47,
   "id": "777e1568",
   "metadata": {},
   "outputs": [],
   "source": [
    "# Return the number of ink types available\n",
    "df['available_ink_number'] = df['supply_selectability_number'].str.split(\"/\").str.len()"
   ]
  },
  {
   "cell_type": "code",
   "execution_count": 48,
   "id": "ed042e01",
   "metadata": {},
   "outputs": [
    {
     "data": {
      "text/plain": [
       "0    4\n",
       "1    3\n",
       "2    3\n",
       "3    3\n",
       "4    3\n",
       "Name: available_ink_number, dtype: int64"
      ]
     },
     "execution_count": 48,
     "metadata": {},
     "output_type": "execute_result"
    }
   ],
   "source": [
    "df['available_ink_number'].head()"
   ]
  },
  {
   "cell_type": "code",
   "execution_count": 50,
   "id": "619fd663",
   "metadata": {},
   "outputs": [],
   "source": [
    "#df = df.drop(['supply_selectability_number'], axis = 1)"
   ]
  },
  {
   "cell_type": "markdown",
   "id": "e5a47288",
   "metadata": {},
   "source": [
    "## user_sub_environment"
   ]
  },
  {
   "cell_type": "code",
   "execution_count": 51,
   "id": "d42dd018",
   "metadata": {},
   "outputs": [
    {
     "data": {
      "text/plain": [
       "array(['Home Business', 'Home Personal', 'Unknown', 'Office Size Unknown',\n",
       "       'Home Unknown', 'Office < 10', 'Office >= 10'], dtype=object)"
      ]
     },
     "execution_count": 51,
     "metadata": {},
     "output_type": "execute_result"
    }
   ],
   "source": [
    "df['user_sub_environment'].unique()"
   ]
  },
  {
   "cell_type": "code",
   "execution_count": 52,
   "id": "70204f70",
   "metadata": {},
   "outputs": [],
   "source": [
    "# Combine \"Home\" \"Office\" \"Unknown\" -> extract the first word"
   ]
  },
  {
   "cell_type": "code",
   "execution_count": 62,
   "id": "4f3d14c0",
   "metadata": {},
   "outputs": [
    {
     "data": {
      "text/plain": [
       "0    Home\n",
       "1    Home\n",
       "2    Home\n",
       "3    Home\n",
       "4    Home\n",
       "Name: user_sub_environment, dtype: object"
      ]
     },
     "execution_count": 62,
     "metadata": {},
     "output_type": "execute_result"
    }
   ],
   "source": [
    "df['user_sub_environment'] = df['user_sub_environment'].str.split().str[0]\n",
    "df['user_sub_environment'].head()"
   ]
  },
  {
   "cell_type": "code",
   "execution_count": 63,
   "id": "0dda3b77",
   "metadata": {},
   "outputs": [
    {
     "data": {
      "text/plain": [
       "array(['Home', 'Unknown', 'Office'], dtype=object)"
      ]
     },
     "execution_count": 63,
     "metadata": {},
     "output_type": "execute_result"
    }
   ],
   "source": [
    "df['user_sub_environment'].unique()"
   ]
  },
  {
   "cell_type": "markdown",
   "id": "99ce7430",
   "metadata": {},
   "source": [
    "## ampv: log + 1"
   ]
  },
  {
   "cell_type": "code",
   "execution_count": 108,
   "id": "011b14b1",
   "metadata": {},
   "outputs": [],
   "source": [
    "# log + 1\n",
    "df['ampv_log'] = np.log(df['ampv']+1)"
   ]
  },
  {
   "cell_type": "code",
   "execution_count": 109,
   "id": "42b030e5",
   "metadata": {
    "scrolled": true
   },
   "outputs": [
    {
     "data": {
      "text/plain": [
       "<AxesSubplot:>"
      ]
     },
     "execution_count": 109,
     "metadata": {},
     "output_type": "execute_result"
    },
    {
     "data": {
      "image/png": "[encoded data removed]",
      "text/plain": [
       "<Figure size 640x480 with 1 Axes>"
      ]
     },
     "metadata": {},
     "output_type": "display_data"
    }
   ],
   "source": [
    "sns.boxplot(data=df[['ampv_log']])"
   ]
  },
  {
   "cell_type": "markdown",
   "id": "d8fc48b3",
   "metadata": {},
   "source": [
    "## ave_cc_mo: Remove\n",
    "## blk_cc_mo, color_cc_mo: log + 1"
   ]
  },
  {
   "cell_type": "code",
   "execution_count": 119,
   "id": "9a30a5fe",
   "metadata": {},
   "outputs": [
    {
     "ename": "KeyError",
     "evalue": "\"['ave_cc_mo'] not found in axis\"",
     "output_type": "error",
     "traceback": [
      "\u001b[1;31m---------------------------------------------------------------------------\u001b[0m",
      "\u001b[1;31mKeyError\u001b[0m                                  Traceback (most recent call last)",
      "\u001b[1;32m~\\AppData\\Local\\Temp\\ipykernel_20020\\536377994.py\u001b[0m in \u001b[0;36m<module>\u001b[1;34m\u001b[0m\n\u001b[0;32m      1\u001b[0m \u001b[1;31m# Remove ave_cc_mo\u001b[0m\u001b[1;33m\u001b[0m\u001b[1;33m\u001b[0m\u001b[0m\n\u001b[1;32m----> 2\u001b[1;33m \u001b[0mdf\u001b[0m \u001b[1;33m=\u001b[0m \u001b[0mdf\u001b[0m\u001b[1;33m.\u001b[0m\u001b[0mdrop\u001b[0m\u001b[1;33m(\u001b[0m\u001b[1;33m[\u001b[0m\u001b[1;34m'ave_cc_mo'\u001b[0m\u001b[1;33m]\u001b[0m\u001b[1;33m,\u001b[0m \u001b[0maxis\u001b[0m\u001b[1;33m=\u001b[0m\u001b[1;36m1\u001b[0m\u001b[1;33m)\u001b[0m\u001b[1;33m\u001b[0m\u001b[1;33m\u001b[0m\u001b[0m\n\u001b[0m",
      "\u001b[1;32m~\\anaconda3\\lib\\site-packages\\pandas\\util\\_decorators.py\u001b[0m in \u001b[0;36mwrapper\u001b[1;34m(*args, **kwargs)\u001b[0m\n\u001b[0;32m    309\u001b[0m                     \u001b[0mstacklevel\u001b[0m\u001b[1;33m=\u001b[0m\u001b[0mstacklevel\u001b[0m\u001b[1;33m,\u001b[0m\u001b[1;33m\u001b[0m\u001b[1;33m\u001b[0m\u001b[0m\n\u001b[0;32m    310\u001b[0m                 )\n\u001b[1;32m--> 311\u001b[1;33m             \u001b[1;32mreturn\u001b[0m \u001b[0mfunc\u001b[0m\u001b[1;33m(\u001b[0m\u001b[1;33m*\u001b[0m\u001b[0margs\u001b[0m\u001b[1;33m,\u001b[0m \u001b[1;33m**\u001b[0m\u001b[0mkwargs\u001b[0m\u001b[1;33m)\u001b[0m\u001b[1;33m\u001b[0m\u001b[1;33m\u001b[0m\u001b[0m\n\u001b[0m\u001b[0;32m    312\u001b[0m \u001b[1;33m\u001b[0m\u001b[0m\n\u001b[0;32m    313\u001b[0m         \u001b[1;32mreturn\u001b[0m \u001b[0mwrapper\u001b[0m\u001b[1;33m\u001b[0m\u001b[1;33m\u001b[0m\u001b[0m\n",
      "\u001b[1;32m~\\anaconda3\\lib\\site-packages\\pandas\\core\\frame.py\u001b[0m in \u001b[0;36mdrop\u001b[1;34m(self, labels, axis, index, columns, level, inplace, errors)\u001b[0m\n\u001b[0;32m   4955\u001b[0m                 \u001b[0mweight\u001b[0m  \u001b[1;36m1.0\u001b[0m     \u001b[1;36m0.8\u001b[0m\u001b[1;33m\u001b[0m\u001b[1;33m\u001b[0m\u001b[0m\n\u001b[0;32m   4956\u001b[0m         \"\"\"\n\u001b[1;32m-> 4957\u001b[1;33m         return super().drop(\n\u001b[0m\u001b[0;32m   4958\u001b[0m             \u001b[0mlabels\u001b[0m\u001b[1;33m=\u001b[0m\u001b[0mlabels\u001b[0m\u001b[1;33m,\u001b[0m\u001b[1;33m\u001b[0m\u001b[1;33m\u001b[0m\u001b[0m\n\u001b[0;32m   4959\u001b[0m             \u001b[0maxis\u001b[0m\u001b[1;33m=\u001b[0m\u001b[0maxis\u001b[0m\u001b[1;33m,\u001b[0m\u001b[1;33m\u001b[0m\u001b[1;33m\u001b[0m\u001b[0m\n",
      "\u001b[1;32m~\\anaconda3\\lib\\site-packages\\pandas\\core\\generic.py\u001b[0m in \u001b[0;36mdrop\u001b[1;34m(self, labels, axis, index, columns, level, inplace, errors)\u001b[0m\n\u001b[0;32m   4265\u001b[0m         \u001b[1;32mfor\u001b[0m \u001b[0maxis\u001b[0m\u001b[1;33m,\u001b[0m \u001b[0mlabels\u001b[0m \u001b[1;32min\u001b[0m \u001b[0maxes\u001b[0m\u001b[1;33m.\u001b[0m\u001b[0mitems\u001b[0m\u001b[1;33m(\u001b[0m\u001b[1;33m)\u001b[0m\u001b[1;33m:\u001b[0m\u001b[1;33m\u001b[0m\u001b[1;33m\u001b[0m\u001b[0m\n\u001b[0;32m   4266\u001b[0m             \u001b[1;32mif\u001b[0m \u001b[0mlabels\u001b[0m \u001b[1;32mis\u001b[0m \u001b[1;32mnot\u001b[0m \u001b[1;32mNone\u001b[0m\u001b[1;33m:\u001b[0m\u001b[1;33m\u001b[0m\u001b[1;33m\u001b[0m\u001b[0m\n\u001b[1;32m-> 4267\u001b[1;33m                 \u001b[0mobj\u001b[0m \u001b[1;33m=\u001b[0m \u001b[0mobj\u001b[0m\u001b[1;33m.\u001b[0m\u001b[0m_drop_axis\u001b[0m\u001b[1;33m(\u001b[0m\u001b[0mlabels\u001b[0m\u001b[1;33m,\u001b[0m \u001b[0maxis\u001b[0m\u001b[1;33m,\u001b[0m \u001b[0mlevel\u001b[0m\u001b[1;33m=\u001b[0m\u001b[0mlevel\u001b[0m\u001b[1;33m,\u001b[0m \u001b[0merrors\u001b[0m\u001b[1;33m=\u001b[0m\u001b[0merrors\u001b[0m\u001b[1;33m)\u001b[0m\u001b[1;33m\u001b[0m\u001b[1;33m\u001b[0m\u001b[0m\n\u001b[0m\u001b[0;32m   4268\u001b[0m \u001b[1;33m\u001b[0m\u001b[0m\n\u001b[0;32m   4269\u001b[0m         \u001b[1;32mif\u001b[0m \u001b[0minplace\u001b[0m\u001b[1;33m:\u001b[0m\u001b[1;33m\u001b[0m\u001b[1;33m\u001b[0m\u001b[0m\n",
      "\u001b[1;32m~\\anaconda3\\lib\\site-packages\\pandas\\core\\generic.py\u001b[0m in \u001b[0;36m_drop_axis\u001b[1;34m(self, labels, axis, level, errors, consolidate, only_slice)\u001b[0m\n\u001b[0;32m   4309\u001b[0m                 \u001b[0mnew_axis\u001b[0m \u001b[1;33m=\u001b[0m \u001b[0maxis\u001b[0m\u001b[1;33m.\u001b[0m\u001b[0mdrop\u001b[0m\u001b[1;33m(\u001b[0m\u001b[0mlabels\u001b[0m\u001b[1;33m,\u001b[0m \u001b[0mlevel\u001b[0m\u001b[1;33m=\u001b[0m\u001b[0mlevel\u001b[0m\u001b[1;33m,\u001b[0m \u001b[0merrors\u001b[0m\u001b[1;33m=\u001b[0m\u001b[0merrors\u001b[0m\u001b[1;33m)\u001b[0m\u001b[1;33m\u001b[0m\u001b[1;33m\u001b[0m\u001b[0m\n\u001b[0;32m   4310\u001b[0m             \u001b[1;32melse\u001b[0m\u001b[1;33m:\u001b[0m\u001b[1;33m\u001b[0m\u001b[1;33m\u001b[0m\u001b[0m\n\u001b[1;32m-> 4311\u001b[1;33m                 \u001b[0mnew_axis\u001b[0m \u001b[1;33m=\u001b[0m \u001b[0maxis\u001b[0m\u001b[1;33m.\u001b[0m\u001b[0mdrop\u001b[0m\u001b[1;33m(\u001b[0m\u001b[0mlabels\u001b[0m\u001b[1;33m,\u001b[0m \u001b[0merrors\u001b[0m\u001b[1;33m=\u001b[0m\u001b[0merrors\u001b[0m\u001b[1;33m)\u001b[0m\u001b[1;33m\u001b[0m\u001b[1;33m\u001b[0m\u001b[0m\n\u001b[0m\u001b[0;32m   4312\u001b[0m             \u001b[0mindexer\u001b[0m \u001b[1;33m=\u001b[0m \u001b[0maxis\u001b[0m\u001b[1;33m.\u001b[0m\u001b[0mget_indexer\u001b[0m\u001b[1;33m(\u001b[0m\u001b[0mnew_axis\u001b[0m\u001b[1;33m)\u001b[0m\u001b[1;33m\u001b[0m\u001b[1;33m\u001b[0m\u001b[0m\n\u001b[0;32m   4313\u001b[0m \u001b[1;33m\u001b[0m\u001b[0m\n",
      "\u001b[1;32m~\\anaconda3\\lib\\site-packages\\pandas\\core\\indexes\\base.py\u001b[0m in \u001b[0;36mdrop\u001b[1;34m(self, labels, errors)\u001b[0m\n\u001b[0;32m   6659\u001b[0m         \u001b[1;32mif\u001b[0m \u001b[0mmask\u001b[0m\u001b[1;33m.\u001b[0m\u001b[0many\u001b[0m\u001b[1;33m(\u001b[0m\u001b[1;33m)\u001b[0m\u001b[1;33m:\u001b[0m\u001b[1;33m\u001b[0m\u001b[1;33m\u001b[0m\u001b[0m\n\u001b[0;32m   6660\u001b[0m             \u001b[1;32mif\u001b[0m \u001b[0merrors\u001b[0m \u001b[1;33m!=\u001b[0m \u001b[1;34m\"ignore\"\u001b[0m\u001b[1;33m:\u001b[0m\u001b[1;33m\u001b[0m\u001b[1;33m\u001b[0m\u001b[0m\n\u001b[1;32m-> 6661\u001b[1;33m                 \u001b[1;32mraise\u001b[0m \u001b[0mKeyError\u001b[0m\u001b[1;33m(\u001b[0m\u001b[1;34mf\"{list(labels[mask])} not found in axis\"\u001b[0m\u001b[1;33m)\u001b[0m\u001b[1;33m\u001b[0m\u001b[1;33m\u001b[0m\u001b[0m\n\u001b[0m\u001b[0;32m   6662\u001b[0m             \u001b[0mindexer\u001b[0m \u001b[1;33m=\u001b[0m \u001b[0mindexer\u001b[0m\u001b[1;33m[\u001b[0m\u001b[1;33m~\u001b[0m\u001b[0mmask\u001b[0m\u001b[1;33m]\u001b[0m\u001b[1;33m\u001b[0m\u001b[1;33m\u001b[0m\u001b[0m\n\u001b[0;32m   6663\u001b[0m         \u001b[1;32mreturn\u001b[0m \u001b[0mself\u001b[0m\u001b[1;33m.\u001b[0m\u001b[0mdelete\u001b[0m\u001b[1;33m(\u001b[0m\u001b[0mindexer\u001b[0m\u001b[1;33m)\u001b[0m\u001b[1;33m\u001b[0m\u001b[1;33m\u001b[0m\u001b[0m\n",
      "\u001b[1;31mKeyError\u001b[0m: \"['ave_cc_mo'] not found in axis\""
     ]
    }
   ],
   "source": [
    "# Remove ave_cc_mo\n",
    "df = df.drop(['ave_cc_mo'], axis=1)"
   ]
  },
  {
   "cell_type": "code",
   "execution_count": 114,
   "id": "68452c14",
   "metadata": {},
   "outputs": [],
   "source": [
    "# log + 1\n",
    "df['blk_log'] = np.log(df['blk_cc_mo']+1)\n",
    "df['color_log'] = np.log(df['color_cc_mo']+1)"
   ]
  },
  {
   "cell_type": "code",
   "execution_count": 116,
   "id": "02a6c6a4",
   "metadata": {
    "scrolled": false
   },
   "outputs": [
    {
     "data": {
      "text/plain": [
       "<AxesSubplot:>"
      ]
     },
     "execution_count": 116,
     "metadata": {},
     "output_type": "execute_result"
    },
    {
     "data": {
      "image/png": "[encoded data removed]",
      "text/plain": [
       "<Figure size 640x480 with 1 Axes>"
      ]
     },
     "metadata": {},
     "output_type": "display_data"
    }
   ],
   "source": [
    "sns.boxplot(data=df[['blk_log','color_log']])"
   ]
  },
  {
   "cell_type": "code",
   "execution_count": 120,
   "id": "72e38b88",
   "metadata": {},
   "outputs": [],
   "source": [
    "df = df.drop(['blk_cc_mo', 'color_cc_mo'], axis=1)"
   ]
  },
  {
   "cell_type": "markdown",
   "id": "44a14476",
   "metadata": {},
   "source": [
    "## hp_share fill na with 1"
   ]
  },
  {
   "cell_type": "code",
   "execution_count": 132,
   "id": "9868e4c4",
   "metadata": {},
   "outputs": [
    {
     "data": {
      "text/plain": [
       "count    1.607236e+06\n",
       "mean     9.390837e-01\n",
       "std      1.848439e-01\n",
       "min      0.000000e+00\n",
       "25%      1.000000e+00\n",
       "50%      1.000000e+00\n",
       "75%      1.000000e+00\n",
       "max      1.000000e+00\n",
       "Name: hp_share, dtype: float64"
      ]
     },
     "execution_count": 132,
     "metadata": {},
     "output_type": "execute_result"
    }
   ],
   "source": [
    "df['hp_share'].describe()"
   ]
  },
  {
   "cell_type": "code",
   "execution_count": 124,
   "id": "8b7b3b38",
   "metadata": {
    "scrolled": true
   },
   "outputs": [
    {
     "data": {
      "text/plain": [
       "562544"
      ]
     },
     "execution_count": 124,
     "metadata": {},
     "output_type": "execute_result"
    }
   ],
   "source": [
    "sum(df['hp_share'].isna())"
   ]
  },
  {
   "cell_type": "code",
   "execution_count": 130,
   "id": "026817b3",
   "metadata": {},
   "outputs": [
    {
     "data": {
      "text/plain": [
       "0.5998391541999649"
      ]
     },
     "execution_count": 130,
     "metadata": {},
     "output_type": "execute_result"
    }
   ],
   "source": [
    "len(df[df['hp_share'] == 1])/len(df['hp_share'])"
   ]
  },
  {
   "cell_type": "code",
   "execution_count": 131,
   "id": "cdb387ed",
   "metadata": {},
   "outputs": [
    {
     "data": {
      "text/plain": [
       "0.2592631511028768"
      ]
     },
     "execution_count": 131,
     "metadata": {},
     "output_type": "execute_result"
    }
   ],
   "source": [
    "sum(df['hp_share'].isna())/len(df['hp_share'])"
   ]
  },
  {
   "cell_type": "code",
   "execution_count": 127,
   "id": "12b807ab",
   "metadata": {},
   "outputs": [
    {
     "data": {
      "text/plain": [
       "0.8097871127824414"
      ]
     },
     "execution_count": 127,
     "metadata": {},
     "output_type": "execute_result"
    }
   ],
   "source": [
    "len(df[df['hp_share'] == 1])/(len(df['hp_share']) - sum(df['hp_share'].isna()))"
   ]
  },
  {
   "cell_type": "code",
   "execution_count": 123,
   "id": "ecab3def",
   "metadata": {
    "scrolled": true
   },
   "outputs": [
    {
     "data": {
      "text/plain": [
       "<AxesSubplot:ylabel='Count'>"
      ]
     },
     "execution_count": 123,
     "metadata": {},
     "output_type": "execute_result"
    },
    {
     "data": {
      "image/png": "[encoded data removed]",
      "text/plain": [
       "<Figure size 640x480 with 1 Axes>"
      ]
     },
     "metadata": {},
     "output_type": "display_data"
    }
   ],
   "source": [
    "sns.histplot(df[['hp_share']], binwidth=0.1)"
   ]
  },
  {
   "cell_type": "code",
   "execution_count": 144,
   "id": "e11cb195",
   "metadata": {
    "scrolled": true
   },
   "outputs": [],
   "source": [
    "df['hp_share'] = df['hp_share'].fillna(1)"
   ]
  },
  {
   "cell_type": "markdown",
   "id": "36b08525",
   "metadata": {},
   "source": [
    "## days, trade_cc: leave it \n",
    "## hp_cc: remove"
   ]
  },
  {
   "cell_type": "code",
   "execution_count": 145,
   "id": "9a5d2d32",
   "metadata": {},
   "outputs": [],
   "source": [
    "df = df.drop(['hp_cc'], axis=1)"
   ]
  },
  {
   "cell_type": "code",
   "execution_count": null,
   "id": "575c7cab",
   "metadata": {},
   "outputs": [],
   "source": []
  },
  {
   "cell_type": "markdown",
   "id": "6594d087",
   "metadata": {},
   "source": [
    "## Remove first report, last report"
   ]
  },
  {
   "cell_type": "code",
   "execution_count": 157,
   "id": "449c8f42",
   "metadata": {},
   "outputs": [],
   "source": [
    "df['diff_days'] = (pd.to_datetime(df['last_report']) - pd.to_datetime(df['first_report'])) / np.timedelta64(1, 'D')"
   ]
  },
  {
   "cell_type": "code",
   "execution_count": 158,
   "id": "f797a72f",
   "metadata": {
    "scrolled": true
   },
   "outputs": [
    {
     "data": {
      "text/html": [
       "<div>\n",
       "<style scoped>\n",
       "    .dataframe tbody tr th:only-of-type {\n",
       "        vertical-align: middle;\n",
       "    }\n",
       "\n",
       "    .dataframe tbody tr th {\n",
       "        vertical-align: top;\n",
       "    }\n",
       "\n",
       "    .dataframe thead th {\n",
       "        text-align: right;\n",
       "    }\n",
       "</style>\n",
       "<table border=\"1\" class=\"dataframe\">\n",
       "  <thead>\n",
       "    <tr style=\"text-align: right;\">\n",
       "      <th></th>\n",
       "      <th>Registration_Dt</th>\n",
       "      <th>first_report</th>\n",
       "      <th>last_report</th>\n",
       "      <th>days</th>\n",
       "      <th>diff_days</th>\n",
       "    </tr>\n",
       "  </thead>\n",
       "  <tbody>\n",
       "    <tr>\n",
       "      <th>0</th>\n",
       "      <td>2021-02-03</td>\n",
       "      <td>2018-05-31</td>\n",
       "      <td>2020-07-31</td>\n",
       "      <td>833.4</td>\n",
       "      <td>792.0</td>\n",
       "    </tr>\n",
       "    <tr>\n",
       "      <th>1</th>\n",
       "      <td>2020-11-13</td>\n",
       "      <td>2020-11-30</td>\n",
       "      <td>2021-06-30</td>\n",
       "      <td>209.2</td>\n",
       "      <td>212.0</td>\n",
       "    </tr>\n",
       "    <tr>\n",
       "      <th>2</th>\n",
       "      <td>2021-01-11</td>\n",
       "      <td>2021-01-31</td>\n",
       "      <td>2021-01-31</td>\n",
       "      <td>0.0</td>\n",
       "      <td>0.0</td>\n",
       "    </tr>\n",
       "    <tr>\n",
       "      <th>3</th>\n",
       "      <td>2021-05-08</td>\n",
       "      <td>2021-05-31</td>\n",
       "      <td>2021-06-30</td>\n",
       "      <td>32.6</td>\n",
       "      <td>30.0</td>\n",
       "    </tr>\n",
       "    <tr>\n",
       "      <th>4</th>\n",
       "      <td>2020-08-05</td>\n",
       "      <td>2020-08-31</td>\n",
       "      <td>2021-06-30</td>\n",
       "      <td>309.0</td>\n",
       "      <td>303.0</td>\n",
       "    </tr>\n",
       "    <tr>\n",
       "      <th>...</th>\n",
       "      <td>...</td>\n",
       "      <td>...</td>\n",
       "      <td>...</td>\n",
       "      <td>...</td>\n",
       "      <td>...</td>\n",
       "    </tr>\n",
       "    <tr>\n",
       "      <th>2169821</th>\n",
       "      <td>2021-07-17</td>\n",
       "      <td>2016-08-31</td>\n",
       "      <td>2021-06-30</td>\n",
       "      <td>1746.0</td>\n",
       "      <td>1764.0</td>\n",
       "    </tr>\n",
       "    <tr>\n",
       "      <th>2169822</th>\n",
       "      <td>2020-07-15</td>\n",
       "      <td>2017-05-31</td>\n",
       "      <td>2021-06-30</td>\n",
       "      <td>1495.2</td>\n",
       "      <td>1491.0</td>\n",
       "    </tr>\n",
       "    <tr>\n",
       "      <th>2169823</th>\n",
       "      <td>2021-05-10</td>\n",
       "      <td>2021-05-31</td>\n",
       "      <td>2021-06-30</td>\n",
       "      <td>31.3</td>\n",
       "      <td>30.0</td>\n",
       "    </tr>\n",
       "    <tr>\n",
       "      <th>2169824</th>\n",
       "      <td>2021-02-02</td>\n",
       "      <td>2018-12-31</td>\n",
       "      <td>2019-02-28</td>\n",
       "      <td>78.8</td>\n",
       "      <td>59.0</td>\n",
       "    </tr>\n",
       "    <tr>\n",
       "      <th>2169825</th>\n",
       "      <td>2020-03-31</td>\n",
       "      <td>2018-05-31</td>\n",
       "      <td>2021-06-30</td>\n",
       "      <td>1112.9</td>\n",
       "      <td>1126.0</td>\n",
       "    </tr>\n",
       "  </tbody>\n",
       "</table>\n",
       "<p>2169780 rows × 5 columns</p>\n",
       "</div>"
      ],
      "text/plain": [
       "        Registration_Dt first_report last_report    days  diff_days\n",
       "0            2021-02-03   2018-05-31  2020-07-31   833.4      792.0\n",
       "1            2020-11-13   2020-11-30  2021-06-30   209.2      212.0\n",
       "2            2021-01-11   2021-01-31  2021-01-31     0.0        0.0\n",
       "3            2021-05-08   2021-05-31  2021-06-30    32.6       30.0\n",
       "4            2020-08-05   2020-08-31  2021-06-30   309.0      303.0\n",
       "...                 ...          ...         ...     ...        ...\n",
       "2169821      2021-07-17   2016-08-31  2021-06-30  1746.0     1764.0\n",
       "2169822      2020-07-15   2017-05-31  2021-06-30  1495.2     1491.0\n",
       "2169823      2021-05-10   2021-05-31  2021-06-30    31.3       30.0\n",
       "2169824      2021-02-02   2018-12-31  2019-02-28    78.8       59.0\n",
       "2169825      2020-03-31   2018-05-31  2021-06-30  1112.9     1126.0\n",
       "\n",
       "[2169780 rows x 5 columns]"
      ]
     },
     "execution_count": 158,
     "metadata": {},
     "output_type": "execute_result"
    }
   ],
   "source": [
    "df[['Registration_Dt','first_report','last_report','days', 'diff_days']]"
   ]
  },
  {
   "cell_type": "code",
   "execution_count": 148,
   "id": "9967433e",
   "metadata": {},
   "outputs": [
    {
     "data": {
      "text/plain": [
       "831587"
      ]
     },
     "execution_count": 148,
     "metadata": {},
     "output_type": "execute_result"
    }
   ],
   "source": [
    "sum(df['Registration_Dt'] > df['first_report'])"
   ]
  },
  {
   "cell_type": "code",
   "execution_count": 150,
   "id": "925445ce",
   "metadata": {},
   "outputs": [
    {
     "data": {
      "text/plain": [
       "302438"
      ]
     },
     "execution_count": 150,
     "metadata": {},
     "output_type": "execute_result"
    }
   ],
   "source": [
    "sum(df['Registration_Dt'] > df['last_report'])"
   ]
  },
  {
   "cell_type": "markdown",
   "id": "0d0e25fa",
   "metadata": {},
   "source": [
    "## subscription_id -> subscribed: replace na with 0, non-na with 1"
   ]
  },
  {
   "cell_type": "code",
   "execution_count": 159,
   "id": "b9f8dceb",
   "metadata": {},
   "outputs": [],
   "source": [
    "df['subscribed'] = np.where(df['subscription_id'].isna(), 0, 1)"
   ]
  },
  {
   "cell_type": "code",
   "execution_count": 163,
   "id": "dea3da93",
   "metadata": {},
   "outputs": [
    {
     "data": {
      "text/plain": [
       "797287"
      ]
     },
     "execution_count": 163,
     "metadata": {},
     "output_type": "execute_result"
    }
   ],
   "source": [
    "sum(df['subscribed'])"
   ]
  },
  {
   "cell_type": "code",
   "execution_count": 165,
   "id": "fe3b9a20",
   "metadata": {},
   "outputs": [
    {
     "data": {
      "text/plain": [
       "797287"
      ]
     },
     "execution_count": 165,
     "metadata": {},
     "output_type": "execute_result"
    }
   ],
   "source": [
    "sum(df['subscription_id'].notna())"
   ]
  },
  {
   "cell_type": "markdown",
   "id": "f9d24c3b",
   "metadata": {},
   "source": [
    "## subscription_state == \"subscribed\" -> df['subscription_paid']"
   ]
  },
  {
   "cell_type": "code",
   "execution_count": 166,
   "id": "afd3d74f",
   "metadata": {},
   "outputs": [
    {
     "data": {
      "text/plain": [
       "array([nan, 'subscribed', 'subscribed_no_pens', 'obsolete',\n",
       "       'unsubscribed', 'initiated_unsubscribe', 'obsolete_replacement',\n",
       "       'unknown'], dtype=object)"
      ]
     },
     "execution_count": 166,
     "metadata": {},
     "output_type": "execute_result"
    }
   ],
   "source": [
    "df['subscription_state'].unique()"
   ]
  },
  {
   "cell_type": "code",
   "execution_count": 167,
   "id": "dd513ff9",
   "metadata": {},
   "outputs": [],
   "source": [
    "df['subscription_paid'] = np.where(df['subscription_state'] == 'subscribed', 1, 0)\n",
    "df['obsolete'] = np.where((df['subscription_state'] == 'obsolete') | (df['subscription_state'] == 'obsolete_replacement'), 1, 0)\n",
    "df['unsubscribed'] = np.where((df['subscription_state'] == 'unsubscribed') | (df['subscription_state'] == 'initiated_unsubscribe'), 1, 0)"
   ]
  },
  {
   "cell_type": "code",
   "execution_count": 169,
   "id": "742f55f3",
   "metadata": {},
   "outputs": [],
   "source": [
    "df = df.drop(['subscription_id', 'enrolled_on_date', 'subscription_date','unsubscribe_date', 'obsolete_date', 'subscription_state'], axis=1)"
   ]
  },
  {
   "cell_type": "markdown",
   "id": "d0fa2044",
   "metadata": {},
   "source": [
    "## current_plan: extract the number part; fillna(0)"
   ]
  },
  {
   "cell_type": "code",
   "execution_count": 181,
   "id": "7d9f70d6",
   "metadata": {
    "scrolled": true
   },
   "outputs": [],
   "source": [
    "df['current_plan'] = df['current_plan'].str.split().str[0].fillna(0)"
   ]
  }
 ],
 "metadata": {
  "kernelspec": {
   "display_name": "Python 3 (ipykernel)",
   "language": "python",
   "name": "python3"
  },
  "language_info": {
   "codemirror_mode": {
    "name": "ipython",
    "version": 3
   },
   "file_extension": ".py",
   "mimetype": "text/x-python",
   "name": "python",
   "nbconvert_exporter": "python",
   "pygments_lexer": "ipython3",
   "version": "3.9.13"
  }
 },
 "nbformat": 4,
 "nbformat_minor": 5
}
