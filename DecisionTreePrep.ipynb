{
 "cells": [
  {
   "cell_type": "code",
   "execution_count": 3,
   "id": "1d23d113",
   "metadata": {},
   "outputs": [],
   "source": [
    "import pandas as pd\n",
    "import numpy as np\n",
    "import seaborn as sns"
   ]
  },
  {
   "cell_type": "code",
   "execution_count": 2,
   "id": "f358ed02",
   "metadata": {},
   "outputs": [
    {
     "data": {
      "text/html": [
       "<div>\n",
       "<style scoped>\n",
       "    .dataframe tbody tr th:only-of-type {\n",
       "        vertical-align: middle;\n",
       "    }\n",
       "\n",
       "    .dataframe tbody tr th {\n",
       "        vertical-align: top;\n",
       "    }\n",
       "\n",
       "    .dataframe thead th {\n",
       "        text-align: right;\n",
       "    }\n",
       "</style>\n",
       "<table border=\"1\" class=\"dataframe\">\n",
       "  <thead>\n",
       "    <tr style=\"text-align: right;\">\n",
       "      <th></th>\n",
       "      <th>MDM ID</th>\n",
       "      <th>Printer Total</th>\n",
       "      <th>HW Revenue</th>\n",
       "      <th>Registration_Dt</th>\n",
       "      <th>Product Price</th>\n",
       "      <th>lifetime_loyalty_class</th>\n",
       "      <th>ampv</th>\n",
       "      <th>hp_share</th>\n",
       "      <th>trade_cc</th>\n",
       "      <th>first_report</th>\n",
       "      <th>...</th>\n",
       "      <th>Series_Hp Deskjet</th>\n",
       "      <th>Series_Hp Envy</th>\n",
       "      <th>Series_Hp Ink</th>\n",
       "      <th>Series_Hp Officejet</th>\n",
       "      <th>Series_Hp Pagewide</th>\n",
       "      <th>Series_Hp Photosmart</th>\n",
       "      <th>Series_Hp Smart</th>\n",
       "      <th>Series_Hp Tango</th>\n",
       "      <th>credit_gold_1</th>\n",
       "      <th>Repurchase Prob</th>\n",
       "    </tr>\n",
       "  </thead>\n",
       "  <tbody>\n",
       "    <tr>\n",
       "      <th>0</th>\n",
       "      <td>00008f57773a8813a9bfe807ec82b62f</td>\n",
       "      <td>1</td>\n",
       "      <td>99.99</td>\n",
       "      <td>2021-02-03</td>\n",
       "      <td>99.99</td>\n",
       "      <td>2</td>\n",
       "      <td>46.0</td>\n",
       "      <td>1.0</td>\n",
       "      <td>26.85</td>\n",
       "      <td>2018-05-31</td>\n",
       "      <td>...</td>\n",
       "      <td>0</td>\n",
       "      <td>1</td>\n",
       "      <td>0</td>\n",
       "      <td>0</td>\n",
       "      <td>0</td>\n",
       "      <td>0</td>\n",
       "      <td>0</td>\n",
       "      <td>0</td>\n",
       "      <td>0</td>\n",
       "      <td>0.548200</td>\n",
       "    </tr>\n",
       "    <tr>\n",
       "      <th>1</th>\n",
       "      <td>0003d72bdbbf747066d059911e8dd67f</td>\n",
       "      <td>1</td>\n",
       "      <td>226.00</td>\n",
       "      <td>2021-01-11</td>\n",
       "      <td>226.00</td>\n",
       "      <td>3</td>\n",
       "      <td>0.0</td>\n",
       "      <td>1.0</td>\n",
       "      <td>0.00</td>\n",
       "      <td>2021-01-31</td>\n",
       "      <td>...</td>\n",
       "      <td>0</td>\n",
       "      <td>1</td>\n",
       "      <td>0</td>\n",
       "      <td>0</td>\n",
       "      <td>0</td>\n",
       "      <td>0</td>\n",
       "      <td>0</td>\n",
       "      <td>0</td>\n",
       "      <td>0</td>\n",
       "      <td>0.367560</td>\n",
       "    </tr>\n",
       "    <tr>\n",
       "      <th>2</th>\n",
       "      <td>0004bc0c8070ec31e136e97d8b78b7d2</td>\n",
       "      <td>1</td>\n",
       "      <td>210.21</td>\n",
       "      <td>2020-08-05</td>\n",
       "      <td>210.21</td>\n",
       "      <td>2</td>\n",
       "      <td>10.0</td>\n",
       "      <td>1.0</td>\n",
       "      <td>1.28</td>\n",
       "      <td>2020-08-31</td>\n",
       "      <td>...</td>\n",
       "      <td>0</td>\n",
       "      <td>1</td>\n",
       "      <td>0</td>\n",
       "      <td>0</td>\n",
       "      <td>0</td>\n",
       "      <td>0</td>\n",
       "      <td>0</td>\n",
       "      <td>0</td>\n",
       "      <td>0</td>\n",
       "      <td>0.274853</td>\n",
       "    </tr>\n",
       "    <tr>\n",
       "      <th>3</th>\n",
       "      <td>00052bbcfd223424010f7a6ad38d1e18</td>\n",
       "      <td>1</td>\n",
       "      <td>192.00</td>\n",
       "      <td>2021-03-12</td>\n",
       "      <td>192.00</td>\n",
       "      <td>2</td>\n",
       "      <td>235.0</td>\n",
       "      <td>1.0</td>\n",
       "      <td>18.02</td>\n",
       "      <td>2021-03-31</td>\n",
       "      <td>...</td>\n",
       "      <td>0</td>\n",
       "      <td>0</td>\n",
       "      <td>0</td>\n",
       "      <td>1</td>\n",
       "      <td>0</td>\n",
       "      <td>0</td>\n",
       "      <td>0</td>\n",
       "      <td>0</td>\n",
       "      <td>0</td>\n",
       "      <td>0.744469</td>\n",
       "    </tr>\n",
       "    <tr>\n",
       "      <th>4</th>\n",
       "      <td>000590112f328b02e53d029f5f7c80e0</td>\n",
       "      <td>1</td>\n",
       "      <td>703.27</td>\n",
       "      <td>2020-11-14</td>\n",
       "      <td>703.27</td>\n",
       "      <td>2</td>\n",
       "      <td>288.0</td>\n",
       "      <td>1.0</td>\n",
       "      <td>17.73</td>\n",
       "      <td>2020-11-30</td>\n",
       "      <td>...</td>\n",
       "      <td>0</td>\n",
       "      <td>0</td>\n",
       "      <td>0</td>\n",
       "      <td>1</td>\n",
       "      <td>0</td>\n",
       "      <td>0</td>\n",
       "      <td>0</td>\n",
       "      <td>0</td>\n",
       "      <td>0</td>\n",
       "      <td>0.561028</td>\n",
       "    </tr>\n",
       "  </tbody>\n",
       "</table>\n",
       "<p>5 rows × 35 columns</p>\n",
       "</div>"
      ],
      "text/plain": [
       "                             MDM ID  Printer Total  HW Revenue  \\\n",
       "0  00008f57773a8813a9bfe807ec82b62f              1       99.99   \n",
       "1  0003d72bdbbf747066d059911e8dd67f              1      226.00   \n",
       "2  0004bc0c8070ec31e136e97d8b78b7d2              1      210.21   \n",
       "3  00052bbcfd223424010f7a6ad38d1e18              1      192.00   \n",
       "4  000590112f328b02e53d029f5f7c80e0              1      703.27   \n",
       "\n",
       "  Registration_Dt  Product Price  lifetime_loyalty_class   ampv  hp_share  \\\n",
       "0      2021-02-03          99.99                       2   46.0       1.0   \n",
       "1      2021-01-11         226.00                       3    0.0       1.0   \n",
       "2      2020-08-05         210.21                       2   10.0       1.0   \n",
       "3      2021-03-12         192.00                       2  235.0       1.0   \n",
       "4      2020-11-14         703.27                       2  288.0       1.0   \n",
       "\n",
       "   trade_cc first_report  ... Series_Hp Deskjet  Series_Hp Envy  \\\n",
       "0     26.85   2018-05-31  ...                 0               1   \n",
       "1      0.00   2021-01-31  ...                 0               1   \n",
       "2      1.28   2020-08-31  ...                 0               1   \n",
       "3     18.02   2021-03-31  ...                 0               0   \n",
       "4     17.73   2020-11-30  ...                 0               0   \n",
       "\n",
       "   Series_Hp Ink  Series_Hp Officejet  Series_Hp Pagewide  \\\n",
       "0              0                    0                   0   \n",
       "1              0                    0                   0   \n",
       "2              0                    0                   0   \n",
       "3              0                    1                   0   \n",
       "4              0                    1                   0   \n",
       "\n",
       "   Series_Hp Photosmart  Series_Hp Smart  Series_Hp Tango  credit_gold_1  \\\n",
       "0                     0                0                0              0   \n",
       "1                     0                0                0              0   \n",
       "2                     0                0                0              0   \n",
       "3                     0                0                0              0   \n",
       "4                     0                0                0              0   \n",
       "\n",
       "   Repurchase Prob  \n",
       "0         0.548200  \n",
       "1         0.367560  \n",
       "2         0.274853  \n",
       "3         0.744469  \n",
       "4         0.561028  \n",
       "\n",
       "[5 rows x 35 columns]"
      ]
     },
     "execution_count": 2,
     "metadata": {},
     "output_type": "execute_result"
    }
   ],
   "source": [
    "df = pd.read_csv(\"df_nondemo_pred.csv\")\n",
    "df.head()"
   ]
  },
  {
   "cell_type": "code",
   "execution_count": 6,
   "id": "e71251d2",
   "metadata": {},
   "outputs": [
    {
     "data": {
      "text/plain": [
       "array([2020, 2021, 2019, 2018], dtype=int64)"
      ]
     },
     "execution_count": 6,
     "metadata": {},
     "output_type": "execute_result"
    }
   ],
   "source": [
    "df['last_report_y'].unique()"
   ]
  },
  {
   "cell_type": "code",
   "execution_count": 7,
   "id": "df39d4f6",
   "metadata": {
    "scrolled": false
   },
   "outputs": [
    {
     "data": {
      "text/plain": [
       "Index(['MDM ID', 'Printer Total', 'HW Revenue', 'Registration_Dt',\n",
       "       'Product Price', 'lifetime_loyalty_class', 'ampv', 'hp_share',\n",
       "       'trade_cc', 'first_report', 'last_report', 'current_plan',\n",
       "       'first_report_y', 'last_report_y', 'available_ink_number', 'ampv_log',\n",
       "       'blk_log', 'color_log', 'subscribed', 'subscription_paid', 'obsolete',\n",
       "       'unsubscribed', 'Y', 'user_sub_environment_Office',\n",
       "       'user_sub_environment_Unknown', 'Series_Hp Deskjet', 'Series_Hp Envy',\n",
       "       'Series_Hp Ink', 'Series_Hp Officejet', 'Series_Hp Pagewide',\n",
       "       'Series_Hp Photosmart', 'Series_Hp Smart', 'Series_Hp Tango',\n",
       "       'credit_gold_1', 'Repurchase Prob'],\n",
       "      dtype='object')"
      ]
     },
     "execution_count": 7,
     "metadata": {},
     "output_type": "execute_result"
    }
   ],
   "source": [
    "df.columns"
   ]
  },
  {
   "cell_type": "code",
   "execution_count": 8,
   "id": "6eb2dae9",
   "metadata": {},
   "outputs": [
    {
     "data": {
      "text/plain": [
       "0    0.548200\n",
       "1    0.367560\n",
       "2    0.274853\n",
       "3    0.744469\n",
       "4    0.561028\n",
       "Name: Repurchase Prob, dtype: float64"
      ]
     },
     "execution_count": 8,
     "metadata": {},
     "output_type": "execute_result"
    }
   ],
   "source": [
    "df['Repurchase Prob'].head()"
   ]
  },
  {
   "cell_type": "code",
   "execution_count": 9,
   "id": "1ce897fd",
   "metadata": {},
   "outputs": [],
   "source": [
    "df = df.drop(['MDM ID', 'Printer Total', 'Registration_Dt', 'ampv'],axis=1)"
   ]
  },
  {
   "cell_type": "code",
   "execution_count": 10,
   "id": "ca04aff9",
   "metadata": {},
   "outputs": [
    {
     "data": {
      "text/plain": [
       "1740186"
      ]
     },
     "execution_count": 10,
     "metadata": {},
     "output_type": "execute_result"
    }
   ],
   "source": [
    "len(df)"
   ]
  },
  {
   "cell_type": "markdown",
   "id": "97349a6a",
   "metadata": {},
   "source": [
    "# Label customer"
   ]
  },
  {
   "cell_type": "code",
   "execution_count": 19,
   "id": "71661855",
   "metadata": {},
   "outputs": [],
   "source": [
    "from scipy.stats import zscore"
   ]
  },
  {
   "cell_type": "code",
   "execution_count": 22,
   "id": "f307f1a9",
   "metadata": {},
   "outputs": [
    {
     "data": {
      "text/plain": [
       "<AxesSubplot:xlabel='ampv_log', ylabel='Count'>"
      ]
     },
     "execution_count": 22,
     "metadata": {},
     "output_type": "execute_result"
    },
    {
     "data": {
      "image/png": "[encoded data removed]",
      "text/plain": [
       "<Figure size 640x480 with 1 Axes>"
      ]
     },
     "metadata": {},
     "output_type": "display_data"
    }
   ],
   "source": [
    "sns.histplot(data = df, x='ampv_log')"
   ]
  },
  {
   "cell_type": "code",
   "execution_count": 21,
   "id": "0cf881d9",
   "metadata": {
    "scrolled": true
   },
   "outputs": [
    {
     "data": {
      "text/plain": [
       "0          3.850148\n",
       "1          0.000000\n",
       "2          2.397895\n",
       "3          5.463832\n",
       "4          5.666427\n",
       "             ...   \n",
       "1740181    2.197225\n",
       "1740182    3.891820\n",
       "1740183    3.850148\n",
       "1740184    4.852030\n",
       "1740185    3.178054\n",
       "Name: ampv_log, Length: 1740186, dtype: float64"
      ]
     },
     "execution_count": 21,
     "metadata": {},
     "output_type": "execute_result"
    }
   ],
   "source": [
    "df['ampv_log']"
   ]
  },
  {
   "cell_type": "code",
   "execution_count": 28,
   "id": "af8555dc",
   "metadata": {
    "scrolled": true
   },
   "outputs": [
    {
     "data": {
      "text/html": [
       "<div>\n",
       "<style scoped>\n",
       "    .dataframe tbody tr th:only-of-type {\n",
       "        vertical-align: middle;\n",
       "    }\n",
       "\n",
       "    .dataframe tbody tr th {\n",
       "        vertical-align: top;\n",
       "    }\n",
       "\n",
       "    .dataframe thead th {\n",
       "        text-align: right;\n",
       "    }\n",
       "</style>\n",
       "<table border=\"1\" class=\"dataframe\">\n",
       "  <thead>\n",
       "    <tr style=\"text-align: right;\">\n",
       "      <th></th>\n",
       "      <th>ampv_log</th>\n",
       "      <th>blk_log</th>\n",
       "      <th>color_log</th>\n",
       "    </tr>\n",
       "  </thead>\n",
       "  <tbody>\n",
       "    <tr>\n",
       "      <th>0</th>\n",
       "      <td>-0.021194</td>\n",
       "      <td>-0.537317</td>\n",
       "      <td>-0.640659</td>\n",
       "    </tr>\n",
       "    <tr>\n",
       "      <th>1</th>\n",
       "      <td>-3.022499</td>\n",
       "      <td>-1.378570</td>\n",
       "      <td>-1.190391</td>\n",
       "    </tr>\n",
       "    <tr>\n",
       "      <th>2</th>\n",
       "      <td>-1.153268</td>\n",
       "      <td>-1.076077</td>\n",
       "      <td>-0.918394</td>\n",
       "    </tr>\n",
       "    <tr>\n",
       "      <th>3</th>\n",
       "      <td>1.236721</td>\n",
       "      <td>1.356442</td>\n",
       "      <td>1.491422</td>\n",
       "    </tr>\n",
       "    <tr>\n",
       "      <th>4</th>\n",
       "      <td>1.394649</td>\n",
       "      <td>1.411203</td>\n",
       "      <td>0.676472</td>\n",
       "    </tr>\n",
       "    <tr>\n",
       "      <th>...</th>\n",
       "      <td>...</td>\n",
       "      <td>...</td>\n",
       "      <td>...</td>\n",
       "    </tr>\n",
       "    <tr>\n",
       "      <th>1740181</th>\n",
       "      <td>-1.309697</td>\n",
       "      <td>-1.200948</td>\n",
       "      <td>-1.054393</td>\n",
       "    </tr>\n",
       "    <tr>\n",
       "      <th>1740182</th>\n",
       "      <td>0.011291</td>\n",
       "      <td>-0.438940</td>\n",
       "      <td>0.082403</td>\n",
       "    </tr>\n",
       "    <tr>\n",
       "      <th>1740183</th>\n",
       "      <td>-0.021194</td>\n",
       "      <td>-0.991982</td>\n",
       "      <td>-0.328091</td>\n",
       "    </tr>\n",
       "    <tr>\n",
       "      <th>1740184</th>\n",
       "      <td>0.759803</td>\n",
       "      <td>0.586059</td>\n",
       "      <td>-0.078371</td>\n",
       "    </tr>\n",
       "    <tr>\n",
       "      <th>1740185</th>\n",
       "      <td>-0.545111</td>\n",
       "      <td>-0.303590</td>\n",
       "      <td>0.343532</td>\n",
       "    </tr>\n",
       "  </tbody>\n",
       "</table>\n",
       "<p>1740186 rows × 3 columns</p>\n",
       "</div>"
      ],
      "text/plain": [
       "         ampv_log   blk_log  color_log\n",
       "0       -0.021194 -0.537317  -0.640659\n",
       "1       -3.022499 -1.378570  -1.190391\n",
       "2       -1.153268 -1.076077  -0.918394\n",
       "3        1.236721  1.356442   1.491422\n",
       "4        1.394649  1.411203   0.676472\n",
       "...           ...       ...        ...\n",
       "1740181 -1.309697 -1.200948  -1.054393\n",
       "1740182  0.011291 -0.438940   0.082403\n",
       "1740183 -0.021194 -0.991982  -0.328091\n",
       "1740184  0.759803  0.586059  -0.078371\n",
       "1740185 -0.545111 -0.303590   0.343532\n",
       "\n",
       "[1740186 rows x 3 columns]"
      ]
     },
     "execution_count": 28,
     "metadata": {},
     "output_type": "execute_result"
    }
   ],
   "source": [
    "zs = df[['ampv_log','blk_log','color_log']].apply(zscore)"
   ]
  },
  {
   "cell_type": "code",
   "execution_count": 32,
   "id": "b22468f7",
   "metadata": {},
   "outputs": [],
   "source": [
    "zscore = zs.sum(axis=1)"
   ]
  },
  {
   "cell_type": "code",
   "execution_count": 34,
   "id": "bec87792",
   "metadata": {},
   "outputs": [],
   "source": [
    "df['engagement score'] = zscore"
   ]
  },
  {
   "cell_type": "code",
   "execution_count": 33,
   "id": "746fe1d2",
   "metadata": {},
   "outputs": [
    {
     "data": {
      "text/plain": [
       "<AxesSubplot:ylabel='Count'>"
      ]
     },
     "execution_count": 33,
     "metadata": {},
     "output_type": "execute_result"
    },
    {
     "data": {
      "image/png": "[encoded data removed]",
      "text/plain": [
       "<Figure size 640x480 with 1 Axes>"
      ]
     },
     "metadata": {},
     "output_type": "display_data"
    }
   ],
   "source": [
    "sns.histplot(data=zscore)"
   ]
  },
  {
   "cell_type": "code",
   "execution_count": 61,
   "id": "4cf3604a",
   "metadata": {},
   "outputs": [
    {
     "data": {
      "text/plain": [
       "Index(['HW Revenue', 'Product Price', 'lifetime_loyalty_class', 'hp_share',\n",
       "       'trade_cc', 'first_report', 'last_report', 'current_plan',\n",
       "       'first_report_y', 'last_report_y', 'available_ink_number', 'ampv_log',\n",
       "       'blk_log', 'color_log', 'subscribed', 'subscription_paid', 'obsolete',\n",
       "       'unsubscribed', 'Y', 'user_sub_environment_Office',\n",
       "       'user_sub_environment_Unknown', 'Series_Hp Deskjet', 'Series_Hp Envy',\n",
       "       'Series_Hp Ink', 'Series_Hp Officejet', 'Series_Hp Pagewide',\n",
       "       'Series_Hp Photosmart', 'Series_Hp Smart', 'Series_Hp Tango',\n",
       "       'credit_gold_1', 'Repurchase Prob', 'Repurchase Propensity',\n",
       "       'engagement score', 'printer_environment', 'new/old customer'],\n",
       "      dtype='object')"
      ]
     },
     "execution_count": 61,
     "metadata": {},
     "output_type": "execute_result"
    }
   ],
   "source": [
    "df.columns"
   ]
  },
  {
   "cell_type": "code",
   "execution_count": 40,
   "id": "5ce3dd49",
   "metadata": {},
   "outputs": [],
   "source": [
    "df['printer_environment'] = np.where(df['user_sub_environment_Office'] == 1, \"Office\",\n",
    "                                     np.where(df['user_sub_environment_Unknown'] == 1, \"Unknown\", \"Home\"))"
   ]
  },
  {
   "cell_type": "code",
   "execution_count": 58,
   "id": "a69f2824",
   "metadata": {},
   "outputs": [],
   "source": [
    "df['new/old customer'] = np.where(df['last_report_y'] < 2021, \"Old\", \"New\")"
   ]
  },
  {
   "cell_type": "code",
   "execution_count": 86,
   "id": "6ea07bb8",
   "metadata": {},
   "outputs": [
    {
     "name": "stdout",
     "output_type": "stream",
     "text": [
      "3.4757985488645806 13.55723230776161 -2.417610663541862e-15\n",
      "1.1261984800722031 2.9088887123679403 3.3348385539907976\n",
      "3298.0495049504952 2284.7642857142855 -2.2873470569812255\n",
      "3.588211844136457 27.326463010673535 -0.2976321124928967\n"
     ]
    }
   ],
   "source": [
    "pop_n_o = n_o[0]/n_o[1]\n",
    "pop_hm_of = hm_of[0]/hm_of[1]\n",
    "pop_sc = df['engagement score'].mean()\n",
    "print(pop_n_o,pop_hm_of, pop_sc)\n",
    "\n",
    "high_n_o = cat_n_o[0]/cat_n_o[1]\n",
    "low_n_o = cat_n_o[2]/cat_n_o[3]\n",
    "medium_n_o = cat_n_o[4]/cat_n_o[5]\n",
    "\n",
    "high_hm_of = cat_hm_of[0]/cat_hm_of[1]\n",
    "low_hm_of = cat_hm_of[3]/cat_hm_of[4]\n",
    "medium_hm_of = cat_hm_of[6]/cat_hm_of[7]\n",
    "\n",
    "high_sc = cat_sc[0]\n",
    "low_sc = cat_sc[1]\n",
    "medium_sc = cat_sc[2]\n",
    "\n",
    "print(high_n_o, high_hm_of, high_sc)\n",
    "print(low_n_o, low_hm_of, low_sc)\n",
    "print(medium_n_o, medium_hm_of, medium_sc)"
   ]
  },
  {
   "cell_type": "code",
   "execution_count": 104,
   "id": "b04b177d",
   "metadata": {},
   "outputs": [
    {
     "data": {
      "text/html": [
       "<div>\n",
       "<style scoped>\n",
       "    .dataframe tbody tr th:only-of-type {\n",
       "        vertical-align: middle;\n",
       "    }\n",
       "\n",
       "    .dataframe tbody tr th {\n",
       "        vertical-align: top;\n",
       "    }\n",
       "\n",
       "    .dataframe thead th {\n",
       "        text-align: right;\n",
       "    }\n",
       "</style>\n",
       "<table border=\"1\" class=\"dataframe\">\n",
       "  <thead>\n",
       "    <tr style=\"text-align: right;\">\n",
       "      <th></th>\n",
       "      <th>New / Old</th>\n",
       "      <th>Home / Office</th>\n",
       "      <th>Avg Engagement Score</th>\n",
       "    </tr>\n",
       "    <tr>\n",
       "      <th>Category</th>\n",
       "      <th></th>\n",
       "      <th></th>\n",
       "      <th></th>\n",
       "    </tr>\n",
       "  </thead>\n",
       "  <tbody>\n",
       "    <tr>\n",
       "      <th>Pop</th>\n",
       "      <td>3.475799</td>\n",
       "      <td>13.557232</td>\n",
       "      <td>-2.417611e-15</td>\n",
       "    </tr>\n",
       "    <tr>\n",
       "      <th>High</th>\n",
       "      <td>1.126198</td>\n",
       "      <td>2.908889</td>\n",
       "      <td>3.334839e+00</td>\n",
       "    </tr>\n",
       "    <tr>\n",
       "      <th>Medium</th>\n",
       "      <td>3.588212</td>\n",
       "      <td>27.326463</td>\n",
       "      <td>-2.976321e-01</td>\n",
       "    </tr>\n",
       "    <tr>\n",
       "      <th>Low</th>\n",
       "      <td>3298.049505</td>\n",
       "      <td>2284.764286</td>\n",
       "      <td>-2.287347e+00</td>\n",
       "    </tr>\n",
       "  </tbody>\n",
       "</table>\n",
       "</div>"
      ],
      "text/plain": [
       "            New / Old  Home / Office  Avg Engagement Score\n",
       "Category                                                  \n",
       "Pop          3.475799      13.557232         -2.417611e-15\n",
       "High         1.126198       2.908889          3.334839e+00\n",
       "Medium       3.588212      27.326463         -2.976321e-01\n",
       "Low       3298.049505    2284.764286         -2.287347e+00"
      ]
     },
     "execution_count": 104,
     "metadata": {},
     "output_type": "execute_result"
    }
   ],
   "source": [
    "vis_df = pd.DataFrame({\"New / Old\":[pop_n_o, high_n_o, medium_n_o , low_n_o], \n",
    "              \"Home / Office\":[pop_hm_of, high_hm_of, medium_hm_of, low_hm_of],\n",
    "              \"Avg Engagement Score\":[pop_sc, high_sc, medium_sc,low_sc]})\n",
    "vis_df['Category'] = ['Pop', \"High\", \"Medium\", \"Low\"]\n",
    "vis_df = vis_df.set_index('Category')\n",
    "vis_df"
   ]
  },
  {
   "cell_type": "code",
   "execution_count": 180,
   "id": "3da2ffec",
   "metadata": {
    "scrolled": true
   },
   "outputs": [
    {
     "data": {
      "text/html": [
       "<div>\n",
       "<style scoped>\n",
       "    .dataframe tbody tr th:only-of-type {\n",
       "        vertical-align: middle;\n",
       "    }\n",
       "\n",
       "    .dataframe tbody tr th {\n",
       "        vertical-align: top;\n",
       "    }\n",
       "\n",
       "    .dataframe thead th {\n",
       "        text-align: right;\n",
       "    }\n",
       "</style>\n",
       "<table border=\"1\" class=\"dataframe\">\n",
       "  <thead>\n",
       "    <tr style=\"text-align: right;\">\n",
       "      <th></th>\n",
       "      <th>New / Old</th>\n",
       "      <th>Home / Office</th>\n",
       "    </tr>\n",
       "    <tr>\n",
       "      <th>Category</th>\n",
       "      <th></th>\n",
       "      <th></th>\n",
       "    </tr>\n",
       "  </thead>\n",
       "  <tbody>\n",
       "    <tr>\n",
       "      <th>Pop</th>\n",
       "      <td>0.541055</td>\n",
       "      <td>1.132171</td>\n",
       "    </tr>\n",
       "    <tr>\n",
       "      <th>High</th>\n",
       "      <td>0.051615</td>\n",
       "      <td>0.463727</td>\n",
       "    </tr>\n",
       "    <tr>\n",
       "      <th>Medium</th>\n",
       "      <td>0.554878</td>\n",
       "      <td>1.436583</td>\n",
       "    </tr>\n",
       "    <tr>\n",
       "      <th>Low</th>\n",
       "      <td>3.518257</td>\n",
       "      <td>3.358841</td>\n",
       "    </tr>\n",
       "  </tbody>\n",
       "</table>\n",
       "</div>"
      ],
      "text/plain": [
       "          New / Old  Home / Office\n",
       "Category                          \n",
       "Pop        0.541055       1.132171\n",
       "High       0.051615       0.463727\n",
       "Medium     0.554878       1.436583\n",
       "Low        3.518257       3.358841"
      ]
     },
     "execution_count": 180,
     "metadata": {},
     "output_type": "execute_result"
    }
   ],
   "source": [
    "vis_log = vis_df[['New / Old','Home / Office']].apply(np.log10)\n",
    "vis_log"
   ]
  },
  {
   "cell_type": "code",
   "execution_count": 181,
   "id": "d16d7ac9",
   "metadata": {},
   "outputs": [
    {
     "data": {
      "text/html": [
       "<div>\n",
       "<style scoped>\n",
       "    .dataframe tbody tr th:only-of-type {\n",
       "        vertical-align: middle;\n",
       "    }\n",
       "\n",
       "    .dataframe tbody tr th {\n",
       "        vertical-align: top;\n",
       "    }\n",
       "\n",
       "    .dataframe thead th {\n",
       "        text-align: right;\n",
       "    }\n",
       "</style>\n",
       "<table border=\"1\" class=\"dataframe\">\n",
       "  <thead>\n",
       "    <tr style=\"text-align: right;\">\n",
       "      <th></th>\n",
       "      <th>Avg Engagement Score</th>\n",
       "    </tr>\n",
       "    <tr>\n",
       "      <th>Category</th>\n",
       "      <th></th>\n",
       "    </tr>\n",
       "  </thead>\n",
       "  <tbody>\n",
       "    <tr>\n",
       "      <th>High</th>\n",
       "      <td>3.334839</td>\n",
       "    </tr>\n",
       "    <tr>\n",
       "      <th>Medium</th>\n",
       "      <td>-0.297632</td>\n",
       "    </tr>\n",
       "    <tr>\n",
       "      <th>Low</th>\n",
       "      <td>-2.287347</td>\n",
       "    </tr>\n",
       "  </tbody>\n",
       "</table>\n",
       "</div>"
      ],
      "text/plain": [
       "          Avg Engagement Score\n",
       "Category                      \n",
       "High                  3.334839\n",
       "Medium               -0.297632\n",
       "Low                  -2.287347"
      ]
     },
     "execution_count": 181,
     "metadata": {},
     "output_type": "execute_result"
    }
   ],
   "source": [
    "vis_eng = vis_df[[\"Avg Engagement Score\"]]\n",
    "vis_eng = vis_eng.drop(['Pop'])\n",
    "vis_eng"
   ]
  },
  {
   "cell_type": "code",
   "execution_count": 182,
   "id": "1414da15",
   "metadata": {},
   "outputs": [
    {
     "data": {
      "text/plain": [
       "Avg Engagement Score    5.622186\n",
       "dtype: float64"
      ]
     },
     "execution_count": 182,
     "metadata": {},
     "output_type": "execute_result"
    }
   ],
   "source": [
    "rng_eng = vis_eng.max() - vis_eng.min()\n",
    "min_eng = vis_eng.min()\n",
    "rng_eng"
   ]
  },
  {
   "cell_type": "code",
   "execution_count": 183,
   "id": "d7702828",
   "metadata": {},
   "outputs": [
    {
     "data": {
      "text/html": [
       "<div>\n",
       "<style scoped>\n",
       "    .dataframe tbody tr th:only-of-type {\n",
       "        vertical-align: middle;\n",
       "    }\n",
       "\n",
       "    .dataframe tbody tr th {\n",
       "        vertical-align: top;\n",
       "    }\n",
       "\n",
       "    .dataframe thead th {\n",
       "        text-align: right;\n",
       "    }\n",
       "</style>\n",
       "<table border=\"1\" class=\"dataframe\">\n",
       "  <thead>\n",
       "    <tr style=\"text-align: right;\">\n",
       "      <th></th>\n",
       "      <th>Avg Engagement Score</th>\n",
       "    </tr>\n",
       "    <tr>\n",
       "      <th>Category</th>\n",
       "      <th></th>\n",
       "    </tr>\n",
       "  </thead>\n",
       "  <tbody>\n",
       "    <tr>\n",
       "      <th>High</th>\n",
       "      <td>1.000000</td>\n",
       "    </tr>\n",
       "    <tr>\n",
       "      <th>Medium</th>\n",
       "      <td>0.353904</td>\n",
       "    </tr>\n",
       "    <tr>\n",
       "      <th>Low</th>\n",
       "      <td>0.000000</td>\n",
       "    </tr>\n",
       "  </tbody>\n",
       "</table>\n",
       "</div>"
      ],
      "text/plain": [
       "          Avg Engagement Score\n",
       "Category                      \n",
       "High                  1.000000\n",
       "Medium                0.353904\n",
       "Low                   0.000000"
      ]
     },
     "execution_count": 183,
     "metadata": {},
     "output_type": "execute_result"
    }
   ],
   "source": [
    "vis_eng = vis_eng['Avg Engagement Score'].apply(lambda x: (x-min_eng)/rng_eng)\n",
    "vis_eng"
   ]
  },
  {
   "cell_type": "code",
   "execution_count": 193,
   "id": "cb5d912d",
   "metadata": {},
   "outputs": [],
   "source": [
    "rng = vis_log.max(axis=0) - vis_log.min(axis=0)\n",
    "baseline = vis_log.loc[\"Pop\",:]\n",
    "high_vis = (vis_log.loc[\"High\",:]-baseline)/rng\n",
    "med_vis = (vis_log.loc[\"Medium\",:]-baseline)/rng\n",
    "low_vis = (vis_log.loc[\"Low\",:]-baseline)/rng"
   ]
  },
  {
   "cell_type": "code",
   "execution_count": 194,
   "id": "731f94b2",
   "metadata": {},
   "outputs": [],
   "source": [
    "vis.loc[\"High\",:] = dict(high_vis)\n",
    "vis.loc[\"Medium\",:] = dict(med_vis)\n",
    "vis.loc[\"Low\",:] = dict(low_vis)"
   ]
  },
  {
   "cell_type": "code",
   "execution_count": 195,
   "id": "4cbfc7a0",
   "metadata": {},
   "outputs": [
    {
     "data": {
      "text/html": [
       "<div>\n",
       "<style scoped>\n",
       "    .dataframe tbody tr th:only-of-type {\n",
       "        vertical-align: middle;\n",
       "    }\n",
       "\n",
       "    .dataframe tbody tr th {\n",
       "        vertical-align: top;\n",
       "    }\n",
       "\n",
       "    .dataframe thead th {\n",
       "        text-align: right;\n",
       "    }\n",
       "</style>\n",
       "<table border=\"1\" class=\"dataframe\">\n",
       "  <thead>\n",
       "    <tr style=\"text-align: right;\">\n",
       "      <th></th>\n",
       "      <th>index</th>\n",
       "      <th>New / Old</th>\n",
       "      <th>Home / Office</th>\n",
       "      <th>Avg Engagement Score</th>\n",
       "    </tr>\n",
       "  </thead>\n",
       "  <tbody>\n",
       "    <tr>\n",
       "      <th>0</th>\n",
       "      <td>High</td>\n",
       "      <td>-0.141186</td>\n",
       "      <td>-0.230887</td>\n",
       "      <td>NaN</td>\n",
       "    </tr>\n",
       "    <tr>\n",
       "      <th>1</th>\n",
       "      <td>Medium</td>\n",
       "      <td>0.003988</td>\n",
       "      <td>0.105147</td>\n",
       "      <td>NaN</td>\n",
       "    </tr>\n",
       "    <tr>\n",
       "      <th>2</th>\n",
       "      <td>Low</td>\n",
       "      <td>0.858814</td>\n",
       "      <td>0.769113</td>\n",
       "      <td>NaN</td>\n",
       "    </tr>\n",
       "    <tr>\n",
       "      <th>High</th>\n",
       "      <td>NaN</td>\n",
       "      <td>-0.141186</td>\n",
       "      <td>-0.230887</td>\n",
       "      <td>NaN</td>\n",
       "    </tr>\n",
       "    <tr>\n",
       "      <th>Medium</th>\n",
       "      <td>NaN</td>\n",
       "      <td>0.003988</td>\n",
       "      <td>0.105147</td>\n",
       "      <td>NaN</td>\n",
       "    </tr>\n",
       "    <tr>\n",
       "      <th>Low</th>\n",
       "      <td>NaN</td>\n",
       "      <td>0.858814</td>\n",
       "      <td>0.769113</td>\n",
       "      <td>NaN</td>\n",
       "    </tr>\n",
       "  </tbody>\n",
       "</table>\n",
       "</div>"
      ],
      "text/plain": [
       "         index  New / Old  Home / Office  Avg Engagement Score\n",
       "0         High  -0.141186      -0.230887                   NaN\n",
       "1       Medium   0.003988       0.105147                   NaN\n",
       "2          Low   0.858814       0.769113                   NaN\n",
       "High       NaN  -0.141186      -0.230887                   NaN\n",
       "Medium     NaN   0.003988       0.105147                   NaN\n",
       "Low        NaN   0.858814       0.769113                   NaN"
      ]
     },
     "execution_count": 195,
     "metadata": {},
     "output_type": "execute_result"
    }
   ],
   "source": [
    "#vis = vis.drop(['Category'],axis=1)\n",
    "vis"
   ]
  },
  {
   "cell_type": "code",
   "execution_count": 196,
   "id": "aa7f6f18",
   "metadata": {},
   "outputs": [],
   "source": [
    "vis = vis.drop(['Avg Engagement Score'],axis=1)"
   ]
  },
  {
   "cell_type": "code",
   "execution_count": 197,
   "id": "84d05053",
   "metadata": {},
   "outputs": [
    {
     "data": {
      "text/html": [
       "<div>\n",
       "<style scoped>\n",
       "    .dataframe tbody tr th:only-of-type {\n",
       "        vertical-align: middle;\n",
       "    }\n",
       "\n",
       "    .dataframe tbody tr th {\n",
       "        vertical-align: top;\n",
       "    }\n",
       "\n",
       "    .dataframe thead th {\n",
       "        text-align: right;\n",
       "    }\n",
       "</style>\n",
       "<table border=\"1\" class=\"dataframe\">\n",
       "  <thead>\n",
       "    <tr style=\"text-align: right;\">\n",
       "      <th></th>\n",
       "      <th>index</th>\n",
       "      <th>New / Old</th>\n",
       "      <th>Home / Office</th>\n",
       "    </tr>\n",
       "  </thead>\n",
       "  <tbody>\n",
       "    <tr>\n",
       "      <th>0</th>\n",
       "      <td>High</td>\n",
       "      <td>-0.141186</td>\n",
       "      <td>-0.230887</td>\n",
       "    </tr>\n",
       "    <tr>\n",
       "      <th>1</th>\n",
       "      <td>Medium</td>\n",
       "      <td>0.003988</td>\n",
       "      <td>0.105147</td>\n",
       "    </tr>\n",
       "    <tr>\n",
       "      <th>2</th>\n",
       "      <td>Low</td>\n",
       "      <td>0.858814</td>\n",
       "      <td>0.769113</td>\n",
       "    </tr>\n",
       "    <tr>\n",
       "      <th>High</th>\n",
       "      <td>NaN</td>\n",
       "      <td>-0.141186</td>\n",
       "      <td>-0.230887</td>\n",
       "    </tr>\n",
       "    <tr>\n",
       "      <th>Medium</th>\n",
       "      <td>NaN</td>\n",
       "      <td>0.003988</td>\n",
       "      <td>0.105147</td>\n",
       "    </tr>\n",
       "    <tr>\n",
       "      <th>Low</th>\n",
       "      <td>NaN</td>\n",
       "      <td>0.858814</td>\n",
       "      <td>0.769113</td>\n",
       "    </tr>\n",
       "  </tbody>\n",
       "</table>\n",
       "</div>"
      ],
      "text/plain": [
       "         index  New / Old  Home / Office\n",
       "0         High  -0.141186      -0.230887\n",
       "1       Medium   0.003988       0.105147\n",
       "2          Low   0.858814       0.769113\n",
       "High       NaN  -0.141186      -0.230887\n",
       "Medium     NaN   0.003988       0.105147\n",
       "Low        NaN   0.858814       0.769113"
      ]
     },
     "execution_count": 197,
     "metadata": {},
     "output_type": "execute_result"
    }
   ],
   "source": [
    "vis"
   ]
  },
  {
   "cell_type": "code",
   "execution_count": 198,
   "id": "3a2c5db1",
   "metadata": {
    "scrolled": false
   },
   "outputs": [
    {
     "data": {
      "text/html": [
       "<div>\n",
       "<style scoped>\n",
       "    .dataframe tbody tr th:only-of-type {\n",
       "        vertical-align: middle;\n",
       "    }\n",
       "\n",
       "    .dataframe tbody tr th {\n",
       "        vertical-align: top;\n",
       "    }\n",
       "\n",
       "    .dataframe thead th {\n",
       "        text-align: right;\n",
       "    }\n",
       "</style>\n",
       "<table border=\"1\" class=\"dataframe\">\n",
       "  <thead>\n",
       "    <tr style=\"text-align: right;\">\n",
       "      <th></th>\n",
       "      <th>index</th>\n",
       "      <th>New / Old</th>\n",
       "      <th>Home / Office</th>\n",
       "    </tr>\n",
       "  </thead>\n",
       "  <tbody>\n",
       "    <tr>\n",
       "      <th>High</th>\n",
       "      <td>NaN</td>\n",
       "      <td>-0.141186</td>\n",
       "      <td>-0.230887</td>\n",
       "    </tr>\n",
       "    <tr>\n",
       "      <th>Medium</th>\n",
       "      <td>NaN</td>\n",
       "      <td>0.003988</td>\n",
       "      <td>0.105147</td>\n",
       "    </tr>\n",
       "    <tr>\n",
       "      <th>Low</th>\n",
       "      <td>NaN</td>\n",
       "      <td>0.858814</td>\n",
       "      <td>0.769113</td>\n",
       "    </tr>\n",
       "  </tbody>\n",
       "</table>\n",
       "</div>"
      ],
      "text/plain": [
       "       index  New / Old  Home / Office\n",
       "High     NaN  -0.141186      -0.230887\n",
       "Medium   NaN   0.003988       0.105147\n",
       "Low      NaN   0.858814       0.769113"
      ]
     },
     "execution_count": 198,
     "metadata": {},
     "output_type": "execute_result"
    }
   ],
   "source": [
    "vis = vis.drop([0,1,2])\n",
    "vis"
   ]
  },
  {
   "cell_type": "code",
   "execution_count": 199,
   "id": "28fde266",
   "metadata": {},
   "outputs": [
    {
     "data": {
      "text/html": [
       "<div>\n",
       "<style scoped>\n",
       "    .dataframe tbody tr th:only-of-type {\n",
       "        vertical-align: middle;\n",
       "    }\n",
       "\n",
       "    .dataframe tbody tr th {\n",
       "        vertical-align: top;\n",
       "    }\n",
       "\n",
       "    .dataframe thead th {\n",
       "        text-align: right;\n",
       "    }\n",
       "</style>\n",
       "<table border=\"1\" class=\"dataframe\">\n",
       "  <thead>\n",
       "    <tr style=\"text-align: right;\">\n",
       "      <th></th>\n",
       "      <th>index</th>\n",
       "      <th>New / Old</th>\n",
       "      <th>Home / Office</th>\n",
       "      <th>Avg Engagement Score</th>\n",
       "    </tr>\n",
       "  </thead>\n",
       "  <tbody>\n",
       "    <tr>\n",
       "      <th>High</th>\n",
       "      <td>NaN</td>\n",
       "      <td>-0.141186</td>\n",
       "      <td>-0.230887</td>\n",
       "      <td>1.000000</td>\n",
       "    </tr>\n",
       "    <tr>\n",
       "      <th>Medium</th>\n",
       "      <td>NaN</td>\n",
       "      <td>0.003988</td>\n",
       "      <td>0.105147</td>\n",
       "      <td>0.353904</td>\n",
       "    </tr>\n",
       "    <tr>\n",
       "      <th>Low</th>\n",
       "      <td>NaN</td>\n",
       "      <td>0.858814</td>\n",
       "      <td>0.769113</td>\n",
       "      <td>0.000000</td>\n",
       "    </tr>\n",
       "  </tbody>\n",
       "</table>\n",
       "</div>"
      ],
      "text/plain": [
       "       index  New / Old  Home / Office  Avg Engagement Score\n",
       "High     NaN  -0.141186      -0.230887              1.000000\n",
       "Medium   NaN   0.003988       0.105147              0.353904\n",
       "Low      NaN   0.858814       0.769113              0.000000"
      ]
     },
     "execution_count": 199,
     "metadata": {},
     "output_type": "execute_result"
    }
   ],
   "source": [
    "vis = pd.concat([vis, vis_eng], axis=1)\n",
    "vis"
   ]
  },
  {
   "cell_type": "code",
   "execution_count": 200,
   "id": "a3b32ee3",
   "metadata": {},
   "outputs": [
    {
     "data": {
      "text/html": [
       "<div>\n",
       "<style scoped>\n",
       "    .dataframe tbody tr th:only-of-type {\n",
       "        vertical-align: middle;\n",
       "    }\n",
       "\n",
       "    .dataframe tbody tr th {\n",
       "        vertical-align: top;\n",
       "    }\n",
       "\n",
       "    .dataframe thead th {\n",
       "        text-align: right;\n",
       "    }\n",
       "</style>\n",
       "<table border=\"1\" class=\"dataframe\">\n",
       "  <thead>\n",
       "    <tr style=\"text-align: right;\">\n",
       "      <th></th>\n",
       "      <th>index</th>\n",
       "      <th>New / Old</th>\n",
       "      <th>Home / Office</th>\n",
       "      <th>Avg Engagement Score</th>\n",
       "    </tr>\n",
       "  </thead>\n",
       "  <tbody>\n",
       "    <tr>\n",
       "      <th>0</th>\n",
       "      <td>High</td>\n",
       "      <td>-0.141186</td>\n",
       "      <td>-0.230887</td>\n",
       "      <td>1.000000</td>\n",
       "    </tr>\n",
       "    <tr>\n",
       "      <th>1</th>\n",
       "      <td>Medium</td>\n",
       "      <td>0.003988</td>\n",
       "      <td>0.105147</td>\n",
       "      <td>0.353904</td>\n",
       "    </tr>\n",
       "    <tr>\n",
       "      <th>2</th>\n",
       "      <td>Low</td>\n",
       "      <td>0.858814</td>\n",
       "      <td>0.769113</td>\n",
       "      <td>0.000000</td>\n",
       "    </tr>\n",
       "  </tbody>\n",
       "</table>\n",
       "</div>"
      ],
      "text/plain": [
       "    index  New / Old  Home / Office  Avg Engagement Score\n",
       "0    High  -0.141186      -0.230887              1.000000\n",
       "1  Medium   0.003988       0.105147              0.353904\n",
       "2     Low   0.858814       0.769113              0.000000"
      ]
     },
     "execution_count": 200,
     "metadata": {},
     "output_type": "execute_result"
    }
   ],
   "source": [
    "vis = vis.drop(['index'],axis=1)\n",
    "vis = vis.reset_index()\n",
    "vis"
   ]
  },
  {
   "cell_type": "code",
   "execution_count": 207,
   "id": "4b72ed31",
   "metadata": {},
   "outputs": [],
   "source": [
    "svg_org = vis_df[[\"Avg Engagement Score\"]]\n",
    "cvg_org = svg_org.reset_index(drop=True)"
   ]
  },
  {
   "cell_type": "code",
   "execution_count": 214,
   "id": "04a4bc28",
   "metadata": {},
   "outputs": [],
   "source": [
    "avg_org = cvg_org.drop([0])\n",
    "avg_org = avg_org.reset_index(drop=True)"
   ]
  },
  {
   "cell_type": "code",
   "execution_count": 216,
   "id": "aaf3b718",
   "metadata": {
    "scrolled": true
   },
   "outputs": [],
   "source": [
    "vis = pd.concat([vis,avg_org],axis=1)"
   ]
  },
  {
   "cell_type": "code",
   "execution_count": 217,
   "id": "32eea0b6",
   "metadata": {},
   "outputs": [],
   "source": [
    "vis.to_csv(\"vis.csv\")"
   ]
  },
  {
   "cell_type": "code",
   "execution_count": 95,
   "id": "dca847c1",
   "metadata": {},
   "outputs": [],
   "source": [
    "vis = vis_df.copy(deep=True)"
   ]
  },
  {
   "cell_type": "code",
   "execution_count": 84,
   "id": "1b91f83d",
   "metadata": {},
   "outputs": [
    {
     "data": {
      "text/plain": [
       "Repurchase Propensity\n",
       "High      3.334839\n",
       "Low      -2.287347\n",
       "Medium   -0.297632\n",
       "Name: engagement score, dtype: float64"
      ]
     },
     "execution_count": 84,
     "metadata": {},
     "output_type": "execute_result"
    }
   ],
   "source": [
    "cat_sc = df.groupby(\"Repurchase Propensity\")['engagement score'].mean()\n",
    "cat_sc"
   ]
  },
  {
   "cell_type": "code",
   "execution_count": 78,
   "id": "0bfee5ee",
   "metadata": {},
   "outputs": [
    {
     "data": {
      "text/plain": [
       "Repurchase Propensity  printer_environment\n",
       "High                   Home                   219720\n",
       "                       Office                  75534\n",
       "                       Unknown                 29846\n",
       "Low                    Home                   319867\n",
       "                       Office                    140\n",
       "                       Unknown                 13197\n",
       "Medium                 Home                   965198\n",
       "                       Office                  35321\n",
       "                       Unknown                 81363\n",
       "Name: new/old customer, dtype: int64"
      ]
     },
     "execution_count": 78,
     "metadata": {},
     "output_type": "execute_result"
    }
   ],
   "source": [
    "cat_hm_of = df.groupby([\"Repurchase Propensity\", 'printer_environment'])['new/old customer'].count()\n",
    "cat_hm_of"
   ]
  },
  {
   "cell_type": "code",
   "execution_count": 77,
   "id": "f72daeb8",
   "metadata": {},
   "outputs": [
    {
     "data": {
      "text/plain": [
       "Repurchase Propensity  new/old customer\n",
       "High                   New                 172198\n",
       "                       Old                 152902\n",
       "Low                    New                 333103\n",
       "                       Old                    101\n",
       "Medium                 New                 846086\n",
       "                       Old                 235796\n",
       "Name: new/old customer, dtype: int64"
      ]
     },
     "execution_count": 77,
     "metadata": {},
     "output_type": "execute_result"
    }
   ],
   "source": [
    "cat_n_o = df.groupby([\"Repurchase Propensity\", 'new/old customer'])['new/old customer'].count()\n",
    "cat_n_o"
   ]
  },
  {
   "cell_type": "code",
   "execution_count": 68,
   "id": "6e503c57",
   "metadata": {},
   "outputs": [
    {
     "name": "stdout",
     "output_type": "stream",
     "text": [
      "new/old customer\n",
      "New    1351387\n",
      "Old     388799\n",
      "Name: new/old customer, dtype: int64\n",
      "printer_environment\n",
      "Home       1504785\n",
      "Office      110995\n",
      "Unknown     124406\n",
      "Name: printer_environment, dtype: int64\n"
     ]
    }
   ],
   "source": [
    "n_o = df.groupby('new/old customer')['new/old customer'].count()\n",
    "hm_of = df.groupby(\"printer_environment\")['printer_environment'].count()\n",
    "\n",
    "print(n_o)\n",
    "print(hm_of)"
   ]
  },
  {
   "cell_type": "code",
   "execution_count": 62,
   "id": "3b27bcfe",
   "metadata": {},
   "outputs": [],
   "source": [
    "df_tab = df.drop(['user_sub_environment_Office',\n",
    "       'user_sub_environment_Unknown', 'Series_Hp Deskjet', 'Series_Hp Envy',\n",
    "       'Series_Hp Ink', 'Series_Hp Officejet', 'Series_Hp Pagewide',\n",
    "       'Series_Hp Photosmart', 'Series_Hp Smart', 'Series_Hp Tango',\n",
    "       'credit_gold_1'], axis=1)"
   ]
  },
  {
   "cell_type": "code",
   "execution_count": 63,
   "id": "9f9eb652",
   "metadata": {},
   "outputs": [],
   "source": [
    "df_tab.to_csv(\"visualization.csv\")"
   ]
  },
  {
   "cell_type": "code",
   "execution_count": 23,
   "id": "01cdf241",
   "metadata": {
    "scrolled": true
   },
   "outputs": [
    {
     "data": {
      "text/html": [
       "<div>\n",
       "<style scoped>\n",
       "    .dataframe tbody tr th:only-of-type {\n",
       "        vertical-align: middle;\n",
       "    }\n",
       "\n",
       "    .dataframe tbody tr th {\n",
       "        vertical-align: top;\n",
       "    }\n",
       "\n",
       "    .dataframe thead th {\n",
       "        text-align: right;\n",
       "    }\n",
       "</style>\n",
       "<table border=\"1\" class=\"dataframe\">\n",
       "  <thead>\n",
       "    <tr style=\"text-align: right;\">\n",
       "      <th></th>\n",
       "      <th>ampv_log</th>\n",
       "      <th>blk_log</th>\n",
       "      <th>color_log</th>\n",
       "    </tr>\n",
       "  </thead>\n",
       "  <tbody>\n",
       "    <tr>\n",
       "      <th>count</th>\n",
       "      <td>1.740186e+06</td>\n",
       "      <td>1.740186e+06</td>\n",
       "      <td>1.740186e+06</td>\n",
       "    </tr>\n",
       "    <tr>\n",
       "      <th>mean</th>\n",
       "      <td>3.877336e+00</td>\n",
       "      <td>1.016945e+00</td>\n",
       "      <td>8.342485e-01</td>\n",
       "    </tr>\n",
       "    <tr>\n",
       "      <th>std</th>\n",
       "      <td>1.282825e+00</td>\n",
       "      <td>7.376813e-01</td>\n",
       "      <td>7.008191e-01</td>\n",
       "    </tr>\n",
       "    <tr>\n",
       "      <th>min</th>\n",
       "      <td>0.000000e+00</td>\n",
       "      <td>0.000000e+00</td>\n",
       "      <td>0.000000e+00</td>\n",
       "    </tr>\n",
       "    <tr>\n",
       "      <th>25%</th>\n",
       "      <td>3.091042e+00</td>\n",
       "      <td>4.824261e-01</td>\n",
       "      <td>2.700271e-01</td>\n",
       "    </tr>\n",
       "    <tr>\n",
       "      <th>50%</th>\n",
       "      <td>3.871201e+00</td>\n",
       "      <td>8.628900e-01</td>\n",
       "      <td>6.729445e-01</td>\n",
       "    </tr>\n",
       "    <tr>\n",
       "      <th>75%</th>\n",
       "      <td>4.663439e+00</td>\n",
       "      <td>1.376244e+00</td>\n",
       "      <td>1.217876e+00</td>\n",
       "    </tr>\n",
       "    <tr>\n",
       "      <th>max</th>\n",
       "      <td>1.807417e+01</td>\n",
       "      <td>1.381256e+01</td>\n",
       "      <td>1.398123e+01</td>\n",
       "    </tr>\n",
       "  </tbody>\n",
       "</table>\n",
       "</div>"
      ],
      "text/plain": [
       "           ampv_log       blk_log     color_log\n",
       "count  1.740186e+06  1.740186e+06  1.740186e+06\n",
       "mean   3.877336e+00  1.016945e+00  8.342485e-01\n",
       "std    1.282825e+00  7.376813e-01  7.008191e-01\n",
       "min    0.000000e+00  0.000000e+00  0.000000e+00\n",
       "25%    3.091042e+00  4.824261e-01  2.700271e-01\n",
       "50%    3.871201e+00  8.628900e-01  6.729445e-01\n",
       "75%    4.663439e+00  1.376244e+00  1.217876e+00\n",
       "max    1.807417e+01  1.381256e+01  1.398123e+01"
      ]
     },
     "execution_count": 23,
     "metadata": {},
     "output_type": "execute_result"
    }
   ],
   "source": [
    "df[['ampv_log','blk_log','color_log']].describe()"
   ]
  },
  {
   "cell_type": "code",
   "execution_count": 18,
   "id": "2c2b8d5c",
   "metadata": {
    "scrolled": false
   },
   "outputs": [
    {
     "data": {
      "text/plain": [
       "<AxesSubplot:>"
      ]
     },
     "execution_count": 18,
     "metadata": {},
     "output_type": "execute_result"
    },
    {
     "data": {
      "image/png": "[encoded data removed]",
      "text/plain": [
       "<Figure size 640x480 with 1 Axes>"
      ]
     },
     "metadata": {},
     "output_type": "display_data"
    }
   ],
   "source": [
    "sns.boxplot(data=df[['ampv_log','blk_log','color_log']])"
   ]
  },
  {
   "cell_type": "code",
   "execution_count": 12,
   "id": "a32dc8e2",
   "metadata": {
    "scrolled": false
   },
   "outputs": [
    {
     "data": {
      "text/plain": [
       "<AxesSubplot:xlabel='Repurchase Prob', ylabel='Count'>"
      ]
     },
     "execution_count": 12,
     "metadata": {},
     "output_type": "execute_result"
    },
    {
     "data": {
      "image/png": "[encoded data removed]",
      "text/plain": [
       "<Figure size 640x480 with 1 Axes>"
      ]
     },
     "metadata": {},
     "output_type": "display_data"
    }
   ],
   "source": [
    "sns.histplot(data=df, x='Repurchase Prob', hue='Repurchase Propensity')"
   ]
  },
  {
   "cell_type": "code",
   "execution_count": 11,
   "id": "33771201",
   "metadata": {},
   "outputs": [],
   "source": [
    "df['Repurchase Propensity'] = np.where(df['Repurchase Prob'] < 0.3, \"Low\", \n",
    "                                      (np.where(df['Repurchase Prob'] > 0.6, \"High\", \"Medium\")))"
   ]
  },
  {
   "cell_type": "code",
   "execution_count": null,
   "id": "991e97a5",
   "metadata": {},
   "outputs": [],
   "source": [
    "df.groupby('Repurchase Propensity')['Repurchase Propensity'].count()"
   ]
  },
  {
   "cell_type": "code",
   "execution_count": null,
   "id": "a6bc63c3",
   "metadata": {},
   "outputs": [],
   "source": [
    "sns.histplot(data=df, x='Repurchase Propensity')"
   ]
  },
  {
   "cell_type": "code",
   "execution_count": null,
   "id": "422fe155",
   "metadata": {},
   "outputs": [],
   "source": [
    "df_rm = df.drop(['Repurchase Prob','HW Revenue','Y','last_report','first_report'],axis=1)"
   ]
  },
  {
   "cell_type": "code",
   "execution_count": null,
   "id": "f8453a5c",
   "metadata": {},
   "outputs": [],
   "source": [
    "df_rm.to_csv(\"DT_nonsurvey.csv\")"
   ]
  },
  {
   "cell_type": "code",
   "execution_count": null,
   "id": "50be934d",
   "metadata": {},
   "outputs": [],
   "source": [
    "sns.boxplot(data=df, x='blk_log')"
   ]
  },
  {
   "cell_type": "markdown",
   "id": "707c27f7",
   "metadata": {},
   "source": [
    "# Segment customer"
   ]
  },
  {
   "cell_type": "code",
   "execution_count": null,
   "id": "249e75dc",
   "metadata": {},
   "outputs": [],
   "source": [
    "df_rm = df.drop(['Repurchase Prob','HW Revenue'],axis=1)"
   ]
  },
  {
   "cell_type": "code",
   "execution_count": null,
   "id": "c2a695e7",
   "metadata": {},
   "outputs": [],
   "source": [
    "survey_low = df_rm[df_rm['Repurchase Propensity'] == \"Low\"]\n",
    "survey_medium = df_rm[df_rm['Repurchase Propensity'] == \"Medium\"]\n",
    "survey_high = df_rm[df_rm['Repurchase Propensity'] == \"High\"]"
   ]
  },
  {
   "cell_type": "code",
   "execution_count": null,
   "id": "d51b7cdb",
   "metadata": {},
   "outputs": [],
   "source": [
    "survey_low.to_csv(\"survey_low.csv\")\n",
    "survey_medium.to_csv(\"survey_medium.csv\")\n",
    "survey_high.to_csv(\"survey_high.csv\")"
   ]
  },
  {
   "cell_type": "code",
   "execution_count": null,
   "id": "434ff7fa",
   "metadata": {},
   "outputs": [],
   "source": [
    "survey_high.columns"
   ]
  },
  {
   "cell_type": "code",
   "execution_count": null,
   "id": "396ab6da",
   "metadata": {},
   "outputs": [],
   "source": []
  }
 ],
 "metadata": {
  "kernelspec": {
   "display_name": "Python 3 (ipykernel)",
   "language": "python",
   "name": "python3"
  },
  "language_info": {
   "codemirror_mode": {
    "name": "ipython",
    "version": 3
   },
   "file_extension": ".py",
   "mimetype": "text/x-python",
   "name": "python",
   "nbconvert_exporter": "python",
   "pygments_lexer": "ipython3",
   "version": "3.9.13"
  }
 },
 "nbformat": 4,
 "nbformat_minor": 5
}
